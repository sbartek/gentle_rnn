{
 "cells": [
  {
   "cell_type": "markdown",
   "metadata": {},
   "source": [
    "## How to save and restore variable"
   ]
  },
  {
   "cell_type": "code",
   "execution_count": 1,
   "metadata": {
    "collapsed": true
   },
   "outputs": [],
   "source": [
    "import tensorflow as tf"
   ]
  },
  {
   "cell_type": "code",
   "execution_count": 2,
   "metadata": {},
   "outputs": [
    {
     "name": "stdout",
     "output_type": "stream",
     "text": [
      "10\n",
      "11\n"
     ]
    }
   ],
   "source": [
    "class MegaGraph:\n",
    "    \n",
    "    def __init__(self, val = 10):\n",
    "        self.x = tf.Variable(val, name=\"x\")\n",
    "        self.add_1_2_x = tf.assign(self.x, self.x+1)\n",
    "        \n",
    "train_graph = MegaGraph()\n",
    "\n",
    "\n",
    "init = tf.global_variables_initializer()\n",
    "\n",
    "with tf.Session() as sess:\n",
    "    sess.run(init)\n",
    "    saver1 = tf.train.Saver([train_graph.x])\n",
    "    saver1.save(sess, \"save1.cpkt\")   \n",
    "    print(sess.run(train_graph.x))\n",
    "    sess.run(train_graph.add_1_2_x)\n",
    "    print(sess.run(train_graph.x))\n",
    "    saver1 = tf.train.Saver()\n",
    "    saver1.save(sess, \"save2.cpkt\")"
   ]
  },
  {
   "cell_type": "code",
   "execution_count": 3,
   "metadata": {},
   "outputs": [
    {
     "name": "stdout",
     "output_type": "stream",
     "text": [
      "5\n",
      "INFO:tensorflow:Restoring parameters from save1.cpkt\n",
      "10\n",
      "INFO:tensorflow:Restoring parameters from save2.cpkt\n",
      "11\n"
     ]
    }
   ],
   "source": [
    "tf.reset_default_graph()\n",
    "\n",
    "\n",
    "resore_graph = MegaGraph(5)\n",
    "\n",
    "\n",
    "init = tf.global_variables_initializer()\n",
    "\n",
    "with tf.Session() as sess:\n",
    "    sess.run(init)\n",
    "    saver2 = tf.train.Saver()\n",
    "    print(sess.run(resore_graph.x))\n",
    "    saver2.restore(sess, \"save1.cpkt\")\n",
    "    print(sess.run(resore_graph.x))\n",
    "    saver2.restore(sess, \"save2.cpkt\")\n",
    "    print(sess.run(resore_graph.x))\n",
    "    "
   ]
  },
  {
   "cell_type": "code",
   "execution_count": null,
   "metadata": {
    "collapsed": true
   },
   "outputs": [],
   "source": []
  }
 ],
 "metadata": {
  "kernelspec": {
   "display_name": "Python 3",
   "language": "python",
   "name": "python3"
  },
  "language_info": {
   "codemirror_mode": {
    "name": "ipython",
    "version": 3
   },
   "file_extension": ".py",
   "mimetype": "text/x-python",
   "name": "python",
   "nbconvert_exporter": "python",
   "pygments_lexer": "ipython3",
   "version": "3.6.1"
  }
 },
 "nbformat": 4,
 "nbformat_minor": 2
}
