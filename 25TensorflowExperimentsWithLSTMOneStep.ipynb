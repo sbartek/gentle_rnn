{
 "cells": [
  {
   "cell_type": "markdown",
   "metadata": {},
   "source": [
    "https://github.com/tensorflow/tensorflow/blob/r1.1/tensorflow/contrib/rnn/python/ops/core_rnn_cell_impl.py\n",
    "\n",
    "i = input_gate, j = new_input, f = forget_gate, o = output_gate\n",
    "\n",
    "\n",
    "```\n",
    "def __call__(self, inputs, state, scope=None):\n",
    "    \"\"\"Long short-term memory cell (LSTM).\"\"\"\n",
    "    with _checked_scope(self, scope or \"basic_lstm_cell\", reuse=self._reuse):\n",
    "      # Parameters of gates are concatenated into one multiply for efficiency.\n",
    "      if self._state_is_tuple:\n",
    "        c, h = state\n",
    "      else:\n",
    "        c, h = array_ops.split(value=state, num_or_size_splits=2, axis=1)\n",
    "      concat = _linear([inputs, h], 4 * self._num_units, True)\n",
    "\n",
    "      # i = input_gate, j = new_input, f = forget_gate, o = output_gate\n",
    "      i, j, f, o = array_ops.split(value=concat, num_or_size_splits=4, axis=1)\n",
    "\n",
    "      new_c = (c * sigmoid(f + self._forget_bias) + sigmoid(i) *\n",
    "               self._activation(j))\n",
    "      new_h = self._activation(new_c) * sigmoid(o)\n",
    "\n",
    "      if self._state_is_tuple:\n",
    "        new_state = LSTMStateTuple(new_c, new_h)\n",
    "      else:\n",
    "        new_state = array_ops.concat([new_c, new_h], 1)\n",
    "      return new_h, new_state\n",
    "```\n"
   ]
  },
  {
   "cell_type": "code",
   "execution_count": 1,
   "metadata": {
    "collapsed": true
   },
   "outputs": [],
   "source": [
    "import numpy as np\n",
    "import tensorflow as tf"
   ]
  },
  {
   "cell_type": "code",
   "execution_count": 2,
   "metadata": {},
   "outputs": [
    {
     "data": {
      "text/plain": [
       "[2, 1]"
      ]
     },
     "execution_count": 2,
     "metadata": {},
     "output_type": "execute_result"
    }
   ],
   "source": [
    "n_nodes = 1\n",
    "n_steps = 1\n",
    "data_x1 = np.array([[1], [1], [0], [0]])\n",
    "\n",
    "data_dim =  data_x1.shape[1]\n",
    "n_inputs = data_x1.shape[0]\n",
    "\n",
    "weights_dim = [data_dim + n_nodes, n_nodes]\n",
    "weights_dim"
   ]
  },
  {
   "cell_type": "code",
   "execution_count": 3,
   "metadata": {
    "collapsed": true
   },
   "outputs": [],
   "source": [
    "inputs = tf.placeholder(tf.float32, [n_steps, n_inputs, data_dim])\n",
    "inputs_seq = tf.unstack(inputs)\n",
    "initial_ltm = tf.placeholder(tf.float32, [n_inputs, n_nodes])\n",
    "initial_stm = tf.placeholder(tf.float32, [n_inputs, n_nodes])\n",
    "\n",
    "with tf.name_scope('rec_layer'):\n",
    "\n",
    "    lstm_rnn_cell = tf.contrib.rnn.core_rnn_cell.LSTMCell(\n",
    "        num_units=n_nodes, forget_bias=0,)\n",
    "\n",
    "    lstm_rnn_output, state = tf.contrib.rnn.static_rnn(\n",
    "        cell=lstm_rnn_cell, \n",
    "        initial_state=[initial_ltm, initial_stm], \n",
    "        inputs=inputs_seq, \n",
    "        dtype=tf.float32)"
   ]
  },
  {
   "cell_type": "markdown",
   "metadata": {},
   "source": [
    "<div style=\"width:50%\">![](imgs/LSTM3-focus-i.png)</div>"
   ]
  },
  {
   "cell_type": "code",
   "execution_count": 4,
   "metadata": {
    "collapsed": true
   },
   "outputs": [],
   "source": [
    "Wi = np.ones(weights_dim) * 0\n",
    "WC = np.ones(weights_dim) * 1\n",
    "bi = np.ones(n_nodes) * 100\n",
    "bC = np.ones(n_nodes) * 0"
   ]
  },
  {
   "cell_type": "code",
   "execution_count": 5,
   "metadata": {
    "collapsed": true
   },
   "outputs": [],
   "source": [
    "lt_memory0 = np.array([[ 1.], [ 0.], [ 1.], [ 0.]]) * 0.666\n",
    "st_memory0 = np.zeros([n_inputs, n_nodes])\n",
    "\n",
    "Wf = np.ones(weights_dim) * 0\n",
    "Wo = np.ones(weights_dim) * 0\n",
    "\n",
    "bf = np.ones(n_nodes) * (100)\n",
    "bo = np.ones(n_nodes) * (100)"
   ]
  },
  {
   "cell_type": "markdown",
   "metadata": {},
   "source": [
    "## Order in weights matrix:"
   ]
  },
  {
   "cell_type": "code",
   "execution_count": 6,
   "metadata": {},
   "outputs": [
    {
     "name": "stdout",
     "output_type": "stream",
     "text": [
      "[[ 0.  1.  0.  0.]\n",
      " [ 0.  1.  0.  0.]] [ 100.    0.  100.  100.]\n"
     ]
    }
   ],
   "source": [
    "lstm_weights = np.concatenate([Wi, WC, Wf, Wo], axis=1)\n",
    "lstm_biases = np.concatenate([bi, bC, bf, bo])\n",
    "print(lstm_weights, lstm_biases)"
   ]
  },
  {
   "cell_type": "code",
   "execution_count": 7,
   "metadata": {},
   "outputs": [
    {
     "name": "stdout",
     "output_type": "stream",
     "text": [
      "LSTMStateTuple(c=array([[ 1.        ],\n",
      "       [ 0.33399996],\n",
      "       [ 0.66600001],\n",
      "       [ 0.        ]], dtype=float32), h=array([[ 0.76159418],\n",
      "       [ 0.32211033],\n",
      "       [ 0.58234251],\n",
      "       [ 0.        ]], dtype=float32))\n",
      "out:\n",
      "[array([[ 0.76159418],\n",
      "       [ 0.32211033],\n",
      "       [ 0.58234251],\n",
      "       [ 0.        ]], dtype=float32)]\n"
     ]
    }
   ],
   "source": [
    "data_x1 = np.array([[1], [1], [0], [0]]) * np.arctanh(.334)\n",
    "\n",
    "lstm_weights_var = [v for v in tf.trainable_variables() if v.name == 'rnn/lstm_cell/weights:0'][0]\n",
    "assign_lstm_weights = tf.assign(lstm_weights_var, lstm_weights)\n",
    "\n",
    "lstm_biases_var = [v for v in tf.trainable_variables() if v.name == 'rnn/lstm_cell/biases:0'][0]\n",
    "assign_lstm_biases = tf.assign(lstm_biases_var, lstm_biases)\n",
    "\n",
    "#print(lstm_weights, lstm_biases)\n",
    "\n",
    "feed_dict = {inputs: np.array([data_x1]), initial_ltm:lt_memory0, initial_stm: st_memory0}\n",
    "\n",
    "init = tf.global_variables_initializer()\n",
    "with tf.Session() as sess:\n",
    "    sess.run(init) \n",
    "    sess.run(assign_lstm_weights)\n",
    "    sess.run(assign_lstm_biases)\n",
    "    \n",
    "    variables_names = [v.name for v in tf.trainable_variables()]\n",
    "    values = sess.run(variables_names)\n",
    "    lstm_out, st = sess.run([lstm_rnn_output, state], feed_dict)\n",
    "    print(st)\n",
    "    print('out:')\n",
    "    print(lstm_out)"
   ]
  },
  {
   "cell_type": "code",
   "execution_count": null,
   "metadata": {
    "collapsed": true
   },
   "outputs": [],
   "source": []
  }
 ],
 "metadata": {
  "kernelspec": {
   "display_name": "Python 3",
   "language": "python",
   "name": "python3"
  },
  "language_info": {
   "codemirror_mode": {
    "name": "ipython",
    "version": 3
   },
   "file_extension": ".py",
   "mimetype": "text/x-python",
   "name": "python",
   "nbconvert_exporter": "python",
   "pygments_lexer": "ipython3",
   "version": "3.6.1"
  }
 },
 "nbformat": 4,
 "nbformat_minor": 2
}
