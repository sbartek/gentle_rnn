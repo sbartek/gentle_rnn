{
 "cells": [
  {
   "cell_type": "code",
   "execution_count": 1,
   "metadata": {},
   "outputs": [
    {
     "data": {
      "text/plain": [
       "array([[[ 0.,  1.],\n",
       "        [ 1.,  0.],\n",
       "        [ 1.,  1.],\n",
       "        [ 0., -1.],\n",
       "        [-1.,  0.],\n",
       "        [-1., -1.],\n",
       "        [-1., -1.]],\n",
       "\n",
       "       [[ 1.,  0.],\n",
       "        [-1.,  1.],\n",
       "        [ 0., -2.],\n",
       "        [ 2.,  1.],\n",
       "        [ 1., -1.],\n",
       "        [ 2.,  2.],\n",
       "        [ 1.,  1.]]])"
      ]
     },
     "execution_count": 1,
     "metadata": {},
     "output_type": "execute_result"
    }
   ],
   "source": [
    "import numpy as np\n",
    "import tensorflow as tf\n",
    "\n",
    "data_x1 = np.array([[0., 1.], [1, 0], [1, 1], [0, -1], [-1, 0], [-1, -1], [-1,-1]])\n",
    "data_x2 = np.array([[1., 0.], [-1, 1], [0, -2], [2, 1], [1, -1], [2, 2], [1, 1]])\n",
    "\n",
    "\n",
    "data_x = np.array([data_x1, data_x2])\n",
    "\n",
    "data_x"
   ]
  },
  {
   "cell_type": "code",
   "execution_count": 2,
   "metadata": {},
   "outputs": [],
   "source": [
    "n_inputs = data_x1.shape[0]\n",
    "n_steps = 2\n",
    "inputs = tf.placeholder(tf.float32, shape=[n_steps, n_inputs, 2], name='input') \n",
    "inputs_seq = tf.unstack(inputs)"
   ]
  },
  {
   "cell_type": "code",
   "execution_count": 3,
   "metadata": {},
   "outputs": [],
   "source": [
    "with tf.name_scope('rec_layer'):\n",
    "    cell = tf.contrib.rnn.core_rnn_cell.BasicRNNCell(num_units=1, activation=tf.sigmoid)   \n",
    "    output, state = tf.contrib.rnn.static_rnn(\n",
    "        cell=cell, inputs=inputs_seq, dtype=tf.float32)\n",
    "    \n",
    "cell_weight = [v for v in tf.trainable_variables() if v.name == 'rnn/basic_rnn_cell/weights:0'][0]\n",
    "update_weight = tf.assign(cell_weight, [[-1.], [2.], [4.]])    \n",
    "cell_bias = [v for v in tf.trainable_variables() if v.name == 'rnn/basic_rnn_cell/biases:0'][0]\n",
    "update_bias = tf.assign(cell_bias, [-1])"
   ]
  },
  {
   "cell_type": "code",
   "execution_count": 4,
   "metadata": {},
   "outputs": [
    {
     "name": "stdout",
     "output_type": "stream",
     "text": [
      "[array([[ 0.7310586 ],\n",
      "       [ 0.11920292],\n",
      "       [ 0.5       ],\n",
      "       [ 0.04742587],\n",
      "       [ 0.5       ],\n",
      "       [ 0.11920292],\n",
      "       [ 0.11920292]], dtype=float32), array([[ 0.71590412],\n",
      "       [ 0.92250019],\n",
      "       [ 0.04742587],\n",
      "       [ 0.30782729],\n",
      "       [ 0.11920292],\n",
      "       [ 0.81409055],\n",
      "       [ 0.61699468]], dtype=float32)]\n"
     ]
    }
   ],
   "source": [
    "feed_dict = {inputs: data_x}\n",
    "\n",
    "init = tf.global_variables_initializer()\n",
    "with tf.Session() as sess:\n",
    "    sess.run(init)\n",
    "    writer = tf.summary.FileWriter('logs/06')\n",
    "    writer.add_graph(sess.graph)\n",
    "    sess.run(update_weight)\n",
    "    sess.run(update_bias)\n",
    "    print(sess.run(output, feed_dict))"
   ]
  }
 ],
 "metadata": {
  "kernelspec": {
   "display_name": "Python 3",
   "language": "python",
   "name": "python3"
  },
  "language_info": {
   "codemirror_mode": {
    "name": "ipython",
    "version": 3
   },
   "file_extension": ".py",
   "mimetype": "text/x-python",
   "name": "python",
   "nbconvert_exporter": "python",
   "pygments_lexer": "ipython3",
   "version": "3.6.1"
  }
 },
 "nbformat": 4,
 "nbformat_minor": 2
}
