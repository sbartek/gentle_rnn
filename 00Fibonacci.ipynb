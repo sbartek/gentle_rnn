{
 "cells": [
  {
   "cell_type": "code",
   "execution_count": 1,
   "metadata": {
    "collapsed": true
   },
   "outputs": [],
   "source": [
    "import tensorflow as tf"
   ]
  },
  {
   "cell_type": "code",
   "execution_count": 2,
   "metadata": {},
   "outputs": [
    {
     "name": "stdout",
     "output_type": "stream",
     "text": [
      "0\n",
      "1\n",
      "1\n",
      "2\n",
      "3\n",
      "5\n",
      "8\n",
      "13\n",
      "21\n",
      "34\n",
      "55\n",
      "89\n"
     ]
    }
   ],
   "source": [
    "x0 = 0\n",
    "x1 = 1\n",
    "print(x0)\n",
    "print(x1)\n",
    "for i in range(10):\n",
    "    new_x = x0 + x1\n",
    "    x0 = x1\n",
    "    x1 = new_x\n",
    "    print(x1)"
   ]
  },
  {
   "cell_type": "code",
   "execution_count": 18,
   "metadata": {},
   "outputs": [],
   "source": [
    "x0 = tf.Variable(0, dtype=tf.int64)\n",
    "x1 = tf.Variable(1, dtype=tf.int64)\n",
    "new_x = tf.Variable(0, dtype=tf.int64)\n",
    "\n",
    "update_new_x = tf.assign(new_x, x0 + x1)\n",
    "update_x0 = tf.assign(x0, x1)\n",
    "update_x1 = tf.assign(x1, new_x)"
   ]
  },
  {
   "cell_type": "code",
   "execution_count": 19,
   "metadata": {},
   "outputs": [
    {
     "name": "stdout",
     "output_type": "stream",
     "text": [
      "0\n",
      "1\n",
      "1\n",
      "2\n",
      "3\n",
      "5\n",
      "8\n",
      "13\n",
      "21\n",
      "34\n",
      "55\n",
      "89\n"
     ]
    }
   ],
   "source": [
    "init = tf.global_variables_initializer()\n",
    "with tf.Session() as session:\n",
    "    session.run(init)\n",
    "    print(session.run(x0))\n",
    "    print(session.run(x1))\n",
    "    for i in range(10):\n",
    "        session.run(update_new_x)\n",
    "        session.run(update_x0)\n",
    "        session.run(update_x1)\n",
    "        print(session.run(x1))"
   ]
  },
  {
   "cell_type": "code",
   "execution_count": 22,
   "metadata": {},
   "outputs": [
    {
     "name": "stdout",
     "output_type": "stream",
     "text": [
      "0\n",
      "1\n",
      "1\n",
      "2\n",
      "3\n",
      "5\n",
      "8\n",
      "13\n",
      "21\n",
      "34\n",
      "55\n",
      "89\n"
     ]
    }
   ],
   "source": [
    "def next_x(session):\n",
    "    session.run(update_new_x)\n",
    "    session.run(update_x0)\n",
    "    session.run(update_x1)\n",
    "    \n",
    "with tf.Session() as session:\n",
    "    session.run(init)\n",
    "    print(session.run(x0))\n",
    "    print(session.run(x1))\n",
    "    for i in range(10):\n",
    "        next_x(session)\n",
    "        print(session.run(x1))   "
   ]
  }
 ],
 "metadata": {
  "kernelspec": {
   "display_name": "Python 3",
   "language": "python",
   "name": "python3"
  },
  "language_info": {
   "codemirror_mode": {
    "name": "ipython",
    "version": 3
   },
   "file_extension": ".py",
   "mimetype": "text/x-python",
   "name": "python",
   "nbconvert_exporter": "python",
   "pygments_lexer": "ipython3",
   "version": "3.6.1"
  }
 },
 "nbformat": 4,
 "nbformat_minor": 2
}
