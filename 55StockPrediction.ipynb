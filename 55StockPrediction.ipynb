{
 "cells": [
  {
   "cell_type": "markdown",
   "metadata": {
    "deletable": true,
    "editable": true
   },
   "source": [
    "https://www.youtube.com/watch?v=ftMq5ps503w"
   ]
  },
  {
   "cell_type": "code",
   "execution_count": 1,
   "metadata": {
    "collapsed": true,
    "deletable": true,
    "editable": true
   },
   "outputs": [],
   "source": [
    "import numpy as np\n",
    "import pandas as pd\n",
    "\n",
    "import tensorflow as tf"
   ]
  },
  {
   "cell_type": "code",
   "execution_count": 2,
   "metadata": {
    "collapsed": true,
    "deletable": true,
    "editable": true
   },
   "outputs": [],
   "source": [
    "X = pd.read_csv('sp500.csv')"
   ]
  },
  {
   "cell_type": "code",
   "execution_count": 3,
   "metadata": {
    "collapsed": false,
    "deletable": true,
    "editable": true
   },
   "outputs": [
    {
     "data": {
      "text/plain": [
       "(4170, 1)"
      ]
     },
     "execution_count": 3,
     "metadata": {},
     "output_type": "execute_result"
    }
   ],
   "source": [
    "X.shape"
   ]
  },
  {
   "cell_type": "code",
   "execution_count": 4,
   "metadata": {
    "collapsed": true,
    "deletable": true,
    "editable": true
   },
   "outputs": [],
   "source": [
    "def normalise_windows(window_data):\n",
    "    normalised_data = []\n",
    "    for window in window_data:\n",
    "        normalised_window = [((float(p) / float(window[0])) - 1) for p in window]\n",
    "        normalised_data.append(normalised_window)\n",
    "    return normalised_data"
   ]
  },
  {
   "cell_type": "code",
   "execution_count": 5,
   "metadata": {
    "collapsed": true,
    "deletable": true,
    "editable": true
   },
   "outputs": [],
   "source": [
    "def load_data(filename, seq_len, normalise_window):\n",
    "    f = open(filename, 'r').read()\n",
    "    data = f.split('\\n')\n",
    "\n",
    "    sequence_length = seq_len + 1\n",
    "    result = []\n",
    "    for index in range(len(data) - sequence_length):\n",
    "        result.append(data[index: index + sequence_length])\n",
    "    \n",
    "    if normalise_window:\n",
    "        result = normalise_windows(result)\n",
    "\n",
    "    result = np.array(result)\n",
    "    \n",
    "    row = round(0.9 * result.shape[0])\n",
    "    train = result[:int(row), :]\n",
    "    np.random.shuffle(train)\n",
    "    x_train = train[:, :-1]\n",
    "    y_train = train[:, -1]\n",
    "    x_test = result[int(row):, :-1]\n",
    "    y_test = result[int(row):, -1]\n",
    "\n",
    "    #x_train = np.reshape(x_train, (x_train.shape[0], x_train.shape[1], 1))\n",
    "    #x_test = np.reshape(x_test, (x_test.shape[0], x_test.shape[1], 1))  \n",
    "    #x_train = x_train.transpose()\n",
    "    #x_test = y_test.transpose()\n",
    "    return [x_train, y_train, x_test, y_test]"
   ]
  },
  {
   "cell_type": "code",
   "execution_count": 6,
   "metadata": {
    "collapsed": false,
    "deletable": true,
    "editable": true
   },
   "outputs": [
    {
     "data": {
      "text/plain": [
       "((3709, 50), (3709,), (412, 50), (412,))"
      ]
     },
     "execution_count": 6,
     "metadata": {},
     "output_type": "execute_result"
    }
   ],
   "source": [
    "batch_size = 128\n",
    "lstm_units = 100\n",
    "seq_len = 50\n",
    "\n",
    "\n",
    "X_train, y_train, X_test, y_test = load_data('sp500.csv', seq_len, True)\n",
    "X_train.shape, y_train.shape, X_test.shape, y_test.shape"
   ]
  },
  {
   "cell_type": "code",
   "execution_count": 7,
   "metadata": {
    "collapsed": true,
    "deletable": true,
    "editable": true
   },
   "outputs": [],
   "source": [
    "def get_batch(batch_size=64, X=X_train, y=y_train):\n",
    "    n_batches = X.shape[0]//batch_size\n",
    "    for i in range(n_batches):\n",
    "        yield X[i*batch_size:(i+1)*batch_size, :].reshape(batch_size, -1, 1), y[i*batch_size : (i+1)*batch_size]"
   ]
  },
  {
   "cell_type": "code",
   "execution_count": 8,
   "metadata": {
    "collapsed": false,
    "deletable": true,
    "editable": true
   },
   "outputs": [],
   "source": [
    "inputs = tf.placeholder(tf.float32, shape = [batch_size, 50, 1])\n",
    "inputs_seq = tf.unstack(inputs)\n",
    "outputs = tf.placeholder(tf.float32, shape = [batch_size])\n",
    "learining_rate = tf.placeholder(tf.float32)"
   ]
  },
  {
   "cell_type": "code",
   "execution_count": 9,
   "metadata": {
    "collapsed": false,
    "deletable": true,
    "editable": true
   },
   "outputs": [],
   "source": [
    "with tf.name_scope('rec_layer'):\n",
    "    rnn_cell_1 = tf.contrib.rnn.core_rnn_cell.BasicLSTMCell(num_units = lstm_units)\n",
    "    initial_state = rnn_cell_1.zero_state(batch_size=batch_size, dtype=tf.float32)\n",
    "    lstm_output, state = tf.nn.dynamic_rnn(\n",
    "        cell=rnn_cell_1, \n",
    "        inputs=inputs, \n",
    "        initial_state=initial_state)"
   ]
  },
  {
   "cell_type": "code",
   "execution_count": 10,
   "metadata": {
    "collapsed": true,
    "deletable": true,
    "editable": true
   },
   "outputs": [],
   "source": [
    "with tf.name_scope('output_layer'):\n",
    "    prediction = tf.contrib.layers.fully_connected(inputs=lstm_output[-1], num_outputs=1, activation_fn=None)\n",
    "    loss = tf.reduce_sum(tf.square(prediction-outputs))"
   ]
  },
  {
   "cell_type": "code",
   "execution_count": 11,
   "metadata": {
    "collapsed": false,
    "deletable": true,
    "editable": true
   },
   "outputs": [],
   "source": [
    "train = tf.train.AdamOptimizer(learning_rate=learining_rate).minimize(loss)"
   ]
  },
  {
   "cell_type": "code",
   "execution_count": 14,
   "metadata": {
    "collapsed": false,
    "deletable": true,
    "editable": true
   },
   "outputs": [
    {
     "name": "stdout",
     "output_type": "stream",
     "text": [
      "Epoch: 0, loss: 47.188140869140625\n",
      "Epoch: 1, loss: 48.11824035644531\n",
      "Epoch: 2, loss: 44.94955062866211\n",
      "Epoch: 3, loss: 47.43614959716797\n",
      "Epoch: 4, loss: 51.9918098449707\n",
      "Epoch: 5, loss: 48.801551818847656\n",
      "Epoch: 6, loss: 46.10133361816406\n",
      "Epoch: 7, loss: 45.77214050292969\n",
      "Epoch: 8, loss: 45.40557098388672\n",
      "Epoch: 9, loss: 45.02616882324219\n",
      "Epoch: 10, loss: 44.60902404785156\n",
      "Epoch: 11, loss: 44.36601257324219\n",
      "Epoch: 12, loss: 44.382781982421875\n",
      "Epoch: 13, loss: 44.47223663330078\n",
      "Epoch: 14, loss: 44.501869201660156\n",
      "Epoch: 15, loss: 44.49418258666992\n",
      "Epoch: 16, loss: 44.477909088134766\n",
      "Epoch: 17, loss: 44.45939636230469\n",
      "Epoch: 18, loss: 44.44154357910156\n",
      "Epoch: 19, loss: 44.42498016357422\n",
      "Epoch: 20, loss: 44.41056442260742\n",
      "Epoch: 21, loss: 44.39913558959961\n",
      "Epoch: 22, loss: 44.391448974609375\n",
      "Epoch: 23, loss: 44.38770294189453\n",
      "Epoch: 24, loss: 44.38772964477539\n",
      "Epoch: 25, loss: 44.39092254638672\n",
      "Epoch: 26, loss: 44.39635467529297\n",
      "Epoch: 27, loss: 44.402809143066406\n",
      "Epoch: 28, loss: 44.40882110595703\n",
      "Epoch: 29, loss: 44.413028717041016\n",
      "Epoch: 30, loss: 44.413936614990234\n",
      "Epoch: 31, loss: 44.41051483154297\n",
      "Epoch: 32, loss: 44.40211868286133\n",
      "Epoch: 33, loss: 44.38903045654297\n",
      "Epoch: 34, loss: 44.372406005859375\n",
      "Epoch: 35, loss: 44.35424041748047\n",
      "Epoch: 36, loss: 44.337249755859375\n",
      "Epoch: 37, loss: 44.32416534423828\n",
      "Epoch: 38, loss: 44.316505432128906\n",
      "Epoch: 39, loss: 44.31311798095703\n",
      "Epoch: 40, loss: 44.31101608276367\n",
      "Epoch: 41, loss: 44.30816650390625\n",
      "Epoch: 42, loss: 44.304832458496094\n",
      "Epoch: 43, loss: 44.3023567199707\n",
      "Epoch: 44, loss: 44.30120849609375\n",
      "Epoch: 45, loss: 44.301116943359375\n",
      "Epoch: 46, loss: 44.301570892333984\n",
      "Epoch: 47, loss: 44.30224609375\n",
      "Epoch: 48, loss: 44.30292892456055\n",
      "Epoch: 49, loss: 44.303428649902344\n"
     ]
    }
   ],
   "source": [
    "LEARMING_RATE = 0.05\n",
    "epochs = 50\n",
    "\n",
    "feed_dict = {learining_rate: LEARMING_RATE}\n",
    "\n",
    "init = tf.global_variables_initializer()\n",
    "with tf.Session() as sess:\n",
    "    sess.run(init)\n",
    "    feeed_dict = {learining_rate: LEARMING_RATE}\n",
    "    for epoch in range(epochs):\n",
    "        batches = get_batch(batch_size)\n",
    "        for batch in batches:\n",
    "            feed_dict[inputs], feed_dict[outputs] = batch\n",
    "            sess.run(train, feed_dict)\n",
    "        print(\"Epoch: {}, loss: {}\".format(epoch, sess.run(loss, feed_dict)))"
   ]
  }
 ],
 "metadata": {
  "kernelspec": {
   "display_name": "Python 3",
   "language": "python",
   "name": "python3"
  },
  "language_info": {
   "codemirror_mode": {
    "name": "ipython",
    "version": 3
   },
   "file_extension": ".py",
   "mimetype": "text/x-python",
   "name": "python",
   "nbconvert_exporter": "python",
   "pygments_lexer": "ipython3",
   "version": "3.6.1"
  }
 },
 "nbformat": 4,
 "nbformat_minor": 2
}
