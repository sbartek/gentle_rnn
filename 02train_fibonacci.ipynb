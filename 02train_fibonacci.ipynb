{
 "cells": [
  {
   "cell_type": "code",
   "execution_count": 1,
   "metadata": {},
   "outputs": [],
   "source": [
    "import numpy as np\n",
    "import pandas as pd\n",
    "import tensorflow as tf"
   ]
  },
  {
   "cell_type": "code",
   "execution_count": 2,
   "metadata": {
    "collapsed": true
   },
   "outputs": [],
   "source": [
    "sample_size = 1000000\n",
    "max_num = 1000"
   ]
  },
  {
   "cell_type": "code",
   "execution_count": 3,
   "metadata": {},
   "outputs": [],
   "source": [
    "fib_data = pd.DataFrame(\n",
    "    {'x1': np.random.rand(sample_size), \n",
    "     'x2': np.random.rand(sample_size)})\n",
    "fib_data['y'] = fib_data['x1'] + fib_data['x2']"
   ]
  },
  {
   "cell_type": "code",
   "execution_count": 4,
   "metadata": {},
   "outputs": [
    {
     "data": {
      "text/html": [
       "<div>\n",
       "<style>\n",
       "    .dataframe thead tr:only-child th {\n",
       "        text-align: right;\n",
       "    }\n",
       "\n",
       "    .dataframe thead th {\n",
       "        text-align: left;\n",
       "    }\n",
       "\n",
       "    .dataframe tbody tr th {\n",
       "        vertical-align: top;\n",
       "    }\n",
       "</style>\n",
       "<table border=\"1\" class=\"dataframe\">\n",
       "  <thead>\n",
       "    <tr style=\"text-align: right;\">\n",
       "      <th></th>\n",
       "      <th>x1</th>\n",
       "      <th>x2</th>\n",
       "      <th>y</th>\n",
       "    </tr>\n",
       "  </thead>\n",
       "  <tbody>\n",
       "    <tr>\n",
       "      <th>0</th>\n",
       "      <td>0.698746</td>\n",
       "      <td>0.704676</td>\n",
       "      <td>1.403423</td>\n",
       "    </tr>\n",
       "    <tr>\n",
       "      <th>1</th>\n",
       "      <td>0.675440</td>\n",
       "      <td>0.758063</td>\n",
       "      <td>1.433503</td>\n",
       "    </tr>\n",
       "    <tr>\n",
       "      <th>2</th>\n",
       "      <td>0.881600</td>\n",
       "      <td>0.615355</td>\n",
       "      <td>1.496955</td>\n",
       "    </tr>\n",
       "    <tr>\n",
       "      <th>3</th>\n",
       "      <td>0.401164</td>\n",
       "      <td>0.540395</td>\n",
       "      <td>0.941559</td>\n",
       "    </tr>\n",
       "    <tr>\n",
       "      <th>4</th>\n",
       "      <td>0.448959</td>\n",
       "      <td>0.082627</td>\n",
       "      <td>0.531586</td>\n",
       "    </tr>\n",
       "  </tbody>\n",
       "</table>\n",
       "</div>"
      ],
      "text/plain": [
       "         x1        x2         y\n",
       "0  0.698746  0.704676  1.403423\n",
       "1  0.675440  0.758063  1.433503\n",
       "2  0.881600  0.615355  1.496955\n",
       "3  0.401164  0.540395  0.941559\n",
       "4  0.448959  0.082627  0.531586"
      ]
     },
     "execution_count": 4,
     "metadata": {},
     "output_type": "execute_result"
    }
   ],
   "source": [
    "fib_data.head()"
   ]
  },
  {
   "cell_type": "markdown",
   "metadata": {},
   "source": [
    "## Let's train it & vizualize  :)"
   ]
  },
  {
   "cell_type": "code",
   "execution_count": 5,
   "metadata": {},
   "outputs": [],
   "source": [
    "## Network configuration\n",
    "learning_rates = [1, 0.1, 0.01, 0.001]\n",
    "\n",
    "with tf.name_scope(\"input_data\"):\n",
    "    input_numbers = tf.placeholder(tf.float32, shape=[None, 2], name=\"input\")\n",
    "    output_numbers = tf.placeholder(tf.float32, shape=[None, 1], name=\"output\")\n",
    "    learning_rate = tf.placeholder(tf.float32)\n",
    "\n",
    "with tf.name_scope(\"layer\"):\n",
    "    weight = tf.Variable(tf.truncated_normal([2, 1]), dtype=tf.float32, name=\"weight\")\n",
    "    bias = tf.Variable(tf.zeros([1]), dtype=tf.float32, name=\"bias\")\n",
    "    prediction = tf.matmul(input_numbers, weight) + bias \n",
    "    tf.summary.histogram('weight', weight)\n",
    "    tf.summary.histogram('bias', bias)\n",
    "    tf.summary.histogram('prediction', prediction)\n",
    "    \n",
    "    \n",
    "with tf.name_scope(\"evaluation\"):\n",
    "    loss = tf.reduce_mean(tf.square(prediction - output_numbers), name=\"loss\")\n",
    "    tf.summary.scalar('loss', loss)\n",
    "    \n",
    "\n",
    "with tf.name_scope('train'):\n",
    "    optimizer = tf.train.GradientDescentOptimizer(learning_rate)\n",
    "    train = optimizer.minimize(loss)"
   ]
  },
  {
   "cell_type": "code",
   "execution_count": 6,
   "metadata": {},
   "outputs": [],
   "source": [
    "epochs = 500\n",
    "feed_dict = {input_numbers: fib_data[['x1', 'x2']], output_numbers: fib_data[['y']]}\n",
    "init = tf.global_variables_initializer()"
   ]
  },
  {
   "cell_type": "code",
   "execution_count": 7,
   "metadata": {},
   "outputs": [
    {
     "name": "stdout",
     "output_type": "stream",
     "text": [
      "learning rate 1\n",
      "loss 2.19915\n",
      "loss 3.50853e+31\n",
      "loss inf\n",
      "[array([[ nan],\n",
      "       [ nan]], dtype=float32), array([ nan], dtype=float32)]\n",
      "learning rate 0.1\n",
      "loss 0.293302\n",
      "loss 0.0145884\n",
      "loss 0.00343475\n",
      "loss 0.000879266\n",
      "loss 0.000243745\n",
      "loss 7.21072e-05\n",
      "loss 2.23504e-05\n",
      "loss 7.14229e-06\n",
      "loss 2.32542e-06\n",
      "loss 7.65518e-07\n",
      "[array([[ 0.998914  ],\n",
      "       [ 0.99865645]], dtype=float32), array([ 0.00128457], dtype=float32)]\n",
      "learning rate 0.01\n",
      "loss 1.61512\n",
      "loss 0.204162\n",
      "loss 0.124658\n",
      "loss 0.106925\n",
      "loss 0.093767\n",
      "loss 0.082383\n",
      "loss 0.0724401\n",
      "loss 0.063744\n",
      "loss 0.0561319\n",
      "loss 0.0494639\n",
      "[array([[ 0.84487349],\n",
      "       [ 0.29834235]], dtype=float32), array([ 0.45316821], dtype=float32)]\n",
      "learning rate 0.001\n",
      "loss 0.386006\n",
      "loss 0.333427\n",
      "loss 0.293917\n",
      "loss 0.264051\n",
      "loss 0.241286\n",
      "loss 0.223769\n",
      "loss 0.210125\n",
      "loss 0.199348\n",
      "loss 0.190689\n",
      "loss 0.183607\n",
      "[array([[ 1.69247437],\n",
      "       [-0.25732681]], dtype=float32), array([ 0.20478284], dtype=float32)]\n"
     ]
    }
   ],
   "source": [
    "with tf.Session() as sess:\n",
    "    for lr in learning_rates:\n",
    "        print('learning rate', lr)\n",
    "        feed_dict[learning_rate] = lr\n",
    "        sess.run(init)    \n",
    "        merged_summary = tf.summary.merge_all()\n",
    "        writer = tf.summary.FileWriter(\"logs/02/\"+str(lr))\n",
    "        writer.add_graph(sess.graph)\n",
    "    \n",
    "        for epoch in range(epochs):\n",
    "            if epoch % 50 == 0:\n",
    "                print('loss', sess.run(loss, feed_dict))\n",
    "            if epoch % 10 ==0:\n",
    "                loss_so_far = sess.run(loss, feed_dict)\n",
    "                if np.isnan(loss_so_far):\n",
    "                    break\n",
    "                s = sess.run(merged_summary, feed_dict)\n",
    "                writer.add_summary(s, epoch)\n",
    "            sess.run(train, feed_dict)\n",
    "        print(sess.run([weight, bias], feed_dict))\n",
    "        a = sess.run(prediction, feed_dict)"
   ]
  },
  {
   "cell_type": "code",
   "execution_count": null,
   "metadata": {
    "collapsed": true
   },
   "outputs": [],
   "source": []
  },
  {
   "cell_type": "code",
   "execution_count": null,
   "metadata": {
    "collapsed": true
   },
   "outputs": [],
   "source": []
  },
  {
   "cell_type": "code",
   "execution_count": null,
   "metadata": {
    "collapsed": true
   },
   "outputs": [],
   "source": []
  },
  {
   "cell_type": "code",
   "execution_count": null,
   "metadata": {
    "collapsed": true
   },
   "outputs": [],
   "source": []
  }
 ],
 "metadata": {
  "kernelspec": {
   "display_name": "Python 3",
   "language": "python",
   "name": "python3"
  },
  "language_info": {
   "codemirror_mode": {
    "name": "ipython",
    "version": 3
   },
   "file_extension": ".py",
   "mimetype": "text/x-python",
   "name": "python",
   "nbconvert_exporter": "python",
   "pygments_lexer": "ipython3",
   "version": "3.6.1"
  }
 },
 "nbformat": 4,
 "nbformat_minor": 2
}
