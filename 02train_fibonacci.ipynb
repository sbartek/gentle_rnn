{
 "cells": [
  {
   "cell_type": "markdown",
   "metadata": {
    "deletable": true,
    "editable": true
   },
   "source": [
    "## Training NN (ok, ok linear regression)"
   ]
  },
  {
   "cell_type": "code",
   "execution_count": 1,
   "metadata": {
    "collapsed": true,
    "deletable": true,
    "editable": true
   },
   "outputs": [],
   "source": [
    "import numpy as np\n",
    "import pandas as pd\n",
    "import tensorflow as tf"
   ]
  },
  {
   "cell_type": "code",
   "execution_count": 2,
   "metadata": {
    "collapsed": true,
    "deletable": true,
    "editable": true
   },
   "outputs": [],
   "source": [
    "sample_size = 1000000\n",
    "max_num = 1000"
   ]
  },
  {
   "cell_type": "code",
   "execution_count": 3,
   "metadata": {
    "collapsed": true,
    "deletable": true,
    "editable": true
   },
   "outputs": [],
   "source": [
    "fib_data = pd.DataFrame(\n",
    "    {'x1': np.random.rand(sample_size), \n",
    "     'x2': np.random.rand(sample_size)})\n",
    "fib_data['y'] = fib_data['x1'] + fib_data['x2']"
   ]
  },
  {
   "cell_type": "code",
   "execution_count": 4,
   "metadata": {
    "collapsed": false,
    "deletable": true,
    "editable": true
   },
   "outputs": [
    {
     "data": {
      "text/html": [
       "<div>\n",
       "<style>\n",
       "    .dataframe thead tr:only-child th {\n",
       "        text-align: right;\n",
       "    }\n",
       "\n",
       "    .dataframe thead th {\n",
       "        text-align: left;\n",
       "    }\n",
       "\n",
       "    .dataframe tbody tr th {\n",
       "        vertical-align: top;\n",
       "    }\n",
       "</style>\n",
       "<table border=\"1\" class=\"dataframe\">\n",
       "  <thead>\n",
       "    <tr style=\"text-align: right;\">\n",
       "      <th></th>\n",
       "      <th>x1</th>\n",
       "      <th>x2</th>\n",
       "      <th>y</th>\n",
       "    </tr>\n",
       "  </thead>\n",
       "  <tbody>\n",
       "    <tr>\n",
       "      <th>0</th>\n",
       "      <td>0.916182</td>\n",
       "      <td>0.538276</td>\n",
       "      <td>1.454459</td>\n",
       "    </tr>\n",
       "    <tr>\n",
       "      <th>1</th>\n",
       "      <td>0.348541</td>\n",
       "      <td>0.432702</td>\n",
       "      <td>0.781243</td>\n",
       "    </tr>\n",
       "    <tr>\n",
       "      <th>2</th>\n",
       "      <td>0.639932</td>\n",
       "      <td>0.457578</td>\n",
       "      <td>1.097510</td>\n",
       "    </tr>\n",
       "    <tr>\n",
       "      <th>3</th>\n",
       "      <td>0.774024</td>\n",
       "      <td>0.590979</td>\n",
       "      <td>1.365003</td>\n",
       "    </tr>\n",
       "    <tr>\n",
       "      <th>4</th>\n",
       "      <td>0.876003</td>\n",
       "      <td>0.978154</td>\n",
       "      <td>1.854158</td>\n",
       "    </tr>\n",
       "  </tbody>\n",
       "</table>\n",
       "</div>"
      ],
      "text/plain": [
       "         x1        x2         y\n",
       "0  0.916182  0.538276  1.454459\n",
       "1  0.348541  0.432702  0.781243\n",
       "2  0.639932  0.457578  1.097510\n",
       "3  0.774024  0.590979  1.365003\n",
       "4  0.876003  0.978154  1.854158"
      ]
     },
     "execution_count": 4,
     "metadata": {},
     "output_type": "execute_result"
    }
   ],
   "source": [
    "fib_data.head()"
   ]
  },
  {
   "cell_type": "markdown",
   "metadata": {
    "deletable": true,
    "editable": true
   },
   "source": [
    "## Let's train it & vizualize  :)"
   ]
  },
  {
   "cell_type": "code",
   "execution_count": 5,
   "metadata": {
    "collapsed": true,
    "deletable": true,
    "editable": true
   },
   "outputs": [],
   "source": [
    "## Network configuration\n",
    "learning_rates = [1, 0.1, 0.01, 0.001]\n",
    "\n",
    "with tf.name_scope(\"input_data\"):\n",
    "    input_numbers = tf.placeholder(tf.float32, shape=[None, 2], name=\"input\")\n",
    "    output_numbers = tf.placeholder(tf.float32, shape=[None, 1], name=\"output\")\n",
    "    learning_rate = tf.placeholder(tf.float32)\n",
    "\n",
    "with tf.name_scope(\"layer\"):\n",
    "    weight = tf.Variable(tf.truncated_normal([2, 1]), dtype=tf.float32, name=\"weight\")\n",
    "    bias = tf.Variable(tf.zeros([1]), dtype=tf.float32, name=\"bias\")\n",
    "    prediction = tf.matmul(input_numbers, weight) + bias \n",
    "    tf.summary.histogram('weight', weight) ###\n",
    "    tf.summary.histogram('bias', bias)\n",
    "    tf.summary.histogram('prediction', prediction)\n",
    "    \n",
    "    \n",
    "with tf.name_scope(\"evaluation\"):\n",
    "    loss = tf.reduce_mean(tf.square(prediction - output_numbers), name=\"loss\")\n",
    "    tf.summary.scalar('loss', loss) ###\n",
    "    \n",
    "\n",
    "with tf.name_scope('train'):\n",
    "    optimizer = tf.train.GradientDescentOptimizer(learning_rate)\n",
    "    train = optimizer.minimize(loss)"
   ]
  },
  {
   "cell_type": "code",
   "execution_count": 6,
   "metadata": {
    "collapsed": true,
    "deletable": true,
    "editable": true
   },
   "outputs": [],
   "source": [
    "epochs = 500\n",
    "feed_dict = {input_numbers: fib_data[['x1', 'x2']], output_numbers: fib_data[['y']]}\n",
    "init = tf.global_variables_initializer()"
   ]
  },
  {
   "cell_type": "code",
   "execution_count": 7,
   "metadata": {
    "collapsed": false,
    "deletable": true,
    "editable": true
   },
   "outputs": [
    {
     "name": "stdout",
     "output_type": "stream",
     "text": [
      "learning rate 1\n",
      "loss 3.8946\n",
      "loss 7.81696e+31\n",
      "loss inf\n",
      "learning rate 0.1\n",
      "loss 0.0699729\n",
      "loss 0.00935145\n",
      "loss 0.00180536\n",
      "loss 0.000357867\n",
      "loss 7.39483e-05\n",
      "loss 1.62251e-05\n",
      "loss 3.84445e-06\n",
      "loss 9.91535e-07\n",
      "loss 2.76951e-07\n",
      "loss 8.24552e-08\n",
      "learning rate 0.01\n",
      "loss 1.68316\n",
      "loss 0.170503\n",
      "loss 0.0924049\n",
      "loss 0.0797345\n",
      "loss 0.0710079\n",
      "loss 0.0633551\n",
      "loss 0.0565455\n",
      "loss 0.0504802\n",
      "loss 0.0450764\n",
      "loss 0.0402602\n",
      "learning rate 0.001\n",
      "loss 3.6649\n",
      "loss 2.76359\n",
      "loss 2.09926\n",
      "loss 1.60942\n",
      "loss 1.24802\n",
      "loss 0.981234\n",
      "loss 0.784067\n",
      "loss 0.638198\n",
      "loss 0.530093\n",
      "loss 0.449788\n"
     ]
    }
   ],
   "source": [
    "with tf.Session() as sess:\n",
    "    for lr in learning_rates:\n",
    "        print('learning rate', lr)\n",
    "        feed_dict[learning_rate] = lr\n",
    "        sess.run(init)    \n",
    "        merged_summary = tf.summary.merge_all()\n",
    "        writer = tf.summary.FileWriter(\"logs/02/\"+str(lr)) ###\n",
    "        writer.add_graph(sess.graph) ###\n",
    "    \n",
    "        for epoch in range(epochs):\n",
    "            if epoch % 50 == 0:\n",
    "                print('loss', sess.run(loss, feed_dict))\n",
    "            if epoch != 0 and epoch % 10 == 0:\n",
    "                loss_so_far = sess.run(loss, feed_dict)\n",
    "                if np.isnan(loss_so_far):\n",
    "                    break\n",
    "                s = sess.run(merged_summary, feed_dict)\n",
    "                writer.add_summary(s, epoch) \n",
    "            sess.run(train, feed_dict)\n",
    "        a = sess.run(prediction, feed_dict)"
   ]
  },
  {
   "cell_type": "markdown",
   "metadata": {
    "deletable": true,
    "editable": true
   },
   "source": [
    "`tensorboard --logdir=logs/02/'"
   ]
  }
 ],
 "metadata": {
  "kernelspec": {
   "display_name": "Python 3",
   "language": "python",
   "name": "python3"
  },
  "language_info": {
   "codemirror_mode": {
    "name": "ipython",
    "version": 3
   },
   "file_extension": ".py",
   "mimetype": "text/x-python",
   "name": "python",
   "nbconvert_exporter": "python",
   "pygments_lexer": "ipython3",
   "version": "3.6.1"
  }
 },
 "nbformat": 4,
 "nbformat_minor": 2
}
