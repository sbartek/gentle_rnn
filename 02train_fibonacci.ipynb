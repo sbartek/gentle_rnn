{
 "cells": [
  {
   "cell_type": "code",
   "execution_count": null,
   "metadata": {},
   "outputs": [],
   "source": [
    "import numpy as np\n",
    "import pandas as pd\n",
    "import tensorflow as tf\n",
    "\n",
    "from helpers import df_fibonacci_up_to"
   ]
  },
  {
   "cell_type": "code",
   "execution_count": null,
   "metadata": {},
   "outputs": [],
   "source": [
    "fib_data = df_fibonacci_up_to(8, shuffle=True)\n",
    "fib_data"
   ]
  },
  {
   "cell_type": "markdown",
   "metadata": {},
   "source": [
    "## Let's train it & vizualize  :)"
   ]
  },
  {
   "cell_type": "code",
   "execution_count": null,
   "metadata": {},
   "outputs": [],
   "source": [
    "## Network configuration\n",
    "learning_rates = [0.001, 0.0001, 0.00001]\n",
    "\n",
    "with tf.name_scope(\"input_data\"):\n",
    "    input_numbers = tf.placeholder(tf.float32, shape=[None, 2], name=\"input\")\n",
    "    output_numbers = tf.placeholder(tf.float32, shape=[None, 1], name=\"output\")\n",
    "    learning_rate = tf.placeholder(tf.float32)\n",
    "\n",
    "with tf.name_scope(\"layer\"):\n",
    "    weight = tf.Variable(tf.truncated_normal([2, 1]), dtype=tf.float32, name=\"weight\")\n",
    "    bias = tf.Variable(tf.zeros([1]), dtype=tf.float32, name=\"bias\")\n",
    "    prediction = tf.matmul(input_numbers, weight) + bias \n",
    "    tf.summary.histogram('weight', weight)\n",
    "    tf.summary.histogram('bias', bias)\n",
    "    tf.summary.histogram('prediction', prediction)\n",
    "    \n",
    "    \n",
    "with tf.name_scope(\"evaluation\"):\n",
    "    loss = tf.reduce_mean(tf.square(prediction - output_numbers), name=\"loss\")\n",
    "    tf.summary.scalar('loss', loss)\n",
    "    \n",
    "\n",
    "with tf.name_scope('train'):\n",
    "    optimizer = tf.train.GradientDescentOptimizer(learning_rate)\n",
    "    train = optimizer.minimize(loss)"
   ]
  },
  {
   "cell_type": "code",
   "execution_count": null,
   "metadata": {},
   "outputs": [],
   "source": [
    "epochs = 10000  \n",
    "feed_dict = {input_numbers: fib_data[['x1', 'x2']], output_numbers: fib_data[['y']]}\n",
    "init = tf.global_variables_initializer()"
   ]
  },
  {
   "cell_type": "code",
   "execution_count": null,
   "metadata": {},
   "outputs": [],
   "source": [
    "with tf.Session() as sess:\n",
    "    for lr in learning_rates:\n",
    "        print('learning rate', lr)\n",
    "        feed_dict[learning_rate] = lr\n",
    "        sess.run(init)    \n",
    "        merged_summary = tf.summary.merge_all()\n",
    "        writer = tf.summary.FileWriter(\"logs/02/\"+str(lr))\n",
    "        writer.add_graph(sess.graph)\n",
    "    \n",
    "        for epoch in range(epochs):\n",
    "            if epoch % 400 == 0:\n",
    "                print('loss', sess.run(loss, feed_dict))\n",
    "            if epoch % 5 ==0:\n",
    "                s = sess.run(merged_summary, feed_dict)\n",
    "                writer.add_summary(s, epoch)\n",
    "            sess.run(train, feed_dict)\n",
    "        print(sess.run([weight, bias], feed_dict))\n",
    "        a = sess.run(prediction, feed_dict)"
   ]
  }
 ],
 "metadata": {
  "kernelspec": {
   "display_name": "Python 3",
   "language": "python",
   "name": "python3"
  },
  "language_info": {
   "codemirror_mode": {
    "name": "ipython",
    "version": 3
   },
   "file_extension": ".py",
   "mimetype": "text/x-python",
   "name": "python",
   "nbconvert_exporter": "python",
   "pygments_lexer": "ipython3",
   "version": "3.6.1"
  }
 },
 "nbformat": 4,
 "nbformat_minor": 2
}
