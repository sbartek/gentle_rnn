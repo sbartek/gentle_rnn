{
 "cells": [
  {
   "cell_type": "markdown",
   "metadata": {
    "deletable": true,
    "editable": true
   },
   "source": [
    "https://www.youtube.com/watch?v=ftMq5ps503w"
   ]
  },
  {
   "cell_type": "code",
   "execution_count": 1,
   "metadata": {
    "collapsed": true,
    "deletable": true,
    "editable": true
   },
   "outputs": [],
   "source": [
    "import pickle\n",
    "\n",
    "import numpy as np\n",
    "import pandas as pd\n",
    "\n",
    "import tensorflow as tf"
   ]
  },
  {
   "cell_type": "markdown",
   "metadata": {},
   "source": [
    "https://www.tensorflow.org/programmers_guide/variables"
   ]
  },
  {
   "cell_type": "code",
   "execution_count": 2,
   "metadata": {
    "collapsed": true,
    "deletable": true,
    "editable": true
   },
   "outputs": [],
   "source": [
    "X = pd.read_csv('sp500.csv')"
   ]
  },
  {
   "cell_type": "code",
   "execution_count": 3,
   "metadata": {
    "collapsed": false,
    "deletable": true,
    "editable": true
   },
   "outputs": [
    {
     "data": {
      "text/plain": [
       "(4170, 1)"
      ]
     },
     "execution_count": 3,
     "metadata": {},
     "output_type": "execute_result"
    }
   ],
   "source": [
    "X.shape"
   ]
  },
  {
   "cell_type": "code",
   "execution_count": 4,
   "metadata": {
    "collapsed": true,
    "deletable": true,
    "editable": true
   },
   "outputs": [],
   "source": [
    "def normalise_windows(window_data):\n",
    "    normalised_data = []\n",
    "    for window in window_data:\n",
    "        normalised_window = [((float(p) / float(window[0])) - 1) for p in window]\n",
    "        normalised_data.append(normalised_window)\n",
    "    return normalised_data"
   ]
  },
  {
   "cell_type": "code",
   "execution_count": 5,
   "metadata": {
    "collapsed": true,
    "deletable": true,
    "editable": true
   },
   "outputs": [],
   "source": [
    "def load_data(filename, seq_len, normalise_window):\n",
    "    f = open(filename, 'r').read()\n",
    "    data = f.split('\\n')\n",
    "\n",
    "    sequence_length = seq_len + 1\n",
    "    result = []\n",
    "    for index in range(len(data) - sequence_length):\n",
    "        result.append(data[index: index + sequence_length])\n",
    "    \n",
    "    if normalise_window:\n",
    "        result = normalise_windows(result)\n",
    "\n",
    "    result = np.array(result)\n",
    "    \n",
    "    row = round(0.9 * result.shape[0])\n",
    "    train = result[:int(row), :]\n",
    "    np.random.shuffle(train)\n",
    "    x_train = train[:, :-1]\n",
    "    y_train = train[:, -1]\n",
    "    x_test = result[int(row):, :-1]\n",
    "    y_test = result[int(row):, -1]\n",
    "\n",
    "    #x_train = np.reshape(x_train, (x_train.shape[0], x_train.shape[1], 1))\n",
    "    #x_test = np.reshape(x_test, (x_test.shape[0], x_test.shape[1], 1))  \n",
    "    #x_train = x_train.transpose()\n",
    "    #x_test = y_test.transpose()\n",
    "    return [x_train, y_train, x_test, y_test]"
   ]
  },
  {
   "cell_type": "code",
   "execution_count": 6,
   "metadata": {
    "collapsed": false,
    "deletable": true,
    "editable": true
   },
   "outputs": [
    {
     "data": {
      "text/plain": [
       "((3709, 50), (3709,), (412, 50), (412,))"
      ]
     },
     "execution_count": 6,
     "metadata": {},
     "output_type": "execute_result"
    }
   ],
   "source": [
    "batch_size = 128\n",
    "lstm_units = 100\n",
    "seq_len = 50\n",
    "\n",
    "X_train, y_train, X_test, y_test = load_data('sp500.csv', seq_len, True)\n",
    "X_train.shape, y_train.shape, X_test.shape, y_test.shape"
   ]
  },
  {
   "cell_type": "code",
   "execution_count": 7,
   "metadata": {
    "collapsed": false,
    "deletable": true,
    "editable": true
   },
   "outputs": [],
   "source": [
    "def get_batch(batch_size=64, X=X_train, y=y_train):\n",
    "    n_batches = X.shape[0]//batch_size\n",
    "    for i in range(n_batches):\n",
    "        yield X[i*batch_size:(i+1)*batch_size, :].reshape(batch_size, -1, 1), y[i*batch_size : (i+1)*batch_size]"
   ]
  },
  {
   "cell_type": "code",
   "execution_count": 8,
   "metadata": {
    "collapsed": false
   },
   "outputs": [
    {
     "data": {
      "text/plain": [
       "(412, 50, 1)"
      ]
     },
     "execution_count": 8,
     "metadata": {},
     "output_type": "execute_result"
    }
   ],
   "source": [
    "\n",
    "X_test.reshape((X_test.shape[0], X_test.shape[1], 1)).shape"
   ]
  },
  {
   "cell_type": "code",
   "execution_count": 9,
   "metadata": {
    "collapsed": false,
    "deletable": true,
    "editable": true
   },
   "outputs": [],
   "source": [
    "inputs = tf.placeholder(tf.float32, shape = [None, 50, 1], name='inputs')\n",
    "outputs = tf.placeholder(tf.float32, shape = [batch_size])\n",
    "learining_rate = tf.placeholder(tf.float32)"
   ]
  },
  {
   "cell_type": "code",
   "execution_count": 10,
   "metadata": {
    "collapsed": false,
    "deletable": true,
    "editable": true
   },
   "outputs": [],
   "source": [
    "with tf.name_scope('rec_layer'):\n",
    "    rnn_cell_1 = tf.contrib.rnn.core_rnn_cell.BasicLSTMCell(num_units = lstm_units)\n",
    "    #initial_state = rnn_cell_1.zero_state(batch_size=batch_size, dtype=tf.float32)\n",
    "    lstm_output, lstm_state = tf.nn.dynamic_rnn(\n",
    "        cell=rnn_cell_1, \n",
    "        inputs=inputs, dtype=tf.float32)"
   ]
  },
  {
   "cell_type": "code",
   "execution_count": 11,
   "metadata": {
    "collapsed": false,
    "deletable": true,
    "editable": true
   },
   "outputs": [],
   "source": [
    "with tf.name_scope('output_layer'):\n",
    "    prediction = tf.contrib.layers.fully_connected(inputs=lstm_output[-1], num_outputs=1, activation_fn=None)\n",
    "    predictions = tf.identity(prediction, name=\"predictions\")\n",
    "    loss = tf.reduce_sum(tf.square(predictions-outputs))"
   ]
  },
  {
   "cell_type": "code",
   "execution_count": 12,
   "metadata": {
    "collapsed": false,
    "deletable": true,
    "editable": true
   },
   "outputs": [],
   "source": [
    "train = tf.train.AdamOptimizer(learning_rate=learining_rate).minimize(loss)"
   ]
  },
  {
   "cell_type": "code",
   "execution_count": 13,
   "metadata": {
    "collapsed": false,
    "deletable": true,
    "editable": true
   },
   "outputs": [
    {
     "name": "stdout",
     "output_type": "stream",
     "text": [
      "Epoch: 0, loss: 49.05851364135742\n",
      "Epoch: 1, loss: 34.999900817871094\n",
      "Epoch: 2, loss: 35.517433166503906\n",
      "Epoch: 3, loss: 35.12543869018555\n",
      "Epoch: 4, loss: 35.100982666015625\n",
      "[[  5.73048294e-02   1.12502195e-03  -1.55451950e-02 ...,  -2.81887036e-02\n",
      "    4.34004813e-02  -6.94672093e-02]\n",
      " [  2.12794058e-02   3.59711200e-02  -2.35688627e-01 ...,   9.17696021e-03\n",
      "    5.27546601e-03  -1.47115722e-01]\n",
      " [  2.58257557e-02   2.07414571e-02  -3.56966794e-01 ...,   4.68126778e-03\n",
      "   -4.66544135e-03  -1.24071971e-01]\n",
      " ..., \n",
      " [  5.61492369e-02   6.00541895e-03  -4.42370743e-01 ...,   1.57618357e-04\n",
      "   -6.41458342e-03  -1.25730932e-01]\n",
      " [  5.65473661e-02   5.98025415e-03  -4.42483366e-01 ...,   1.61943695e-04\n",
      "   -6.42663613e-03  -1.25549585e-01]\n",
      " [  5.68990782e-02   5.98569913e-03  -4.41014111e-01 ...,   1.51344444e-04\n",
      "   -6.43238658e-03  -1.25696152e-01]]\n",
      "LSTMStateTuple(c=array([[  1.79989457e-01,   8.84241387e-02,  -5.77369571e-01, ...,\n",
      "          3.09018744e-03,  -7.61723667e-02,  -4.61305857e+00],\n",
      "       [  1.20227724e-01,   9.67357159e-02,  -6.08682752e-01, ...,\n",
      "          3.85872927e-03,  -7.49760121e-02,  -4.84834146e+00],\n",
      "       [  2.08563536e-01,   8.50112364e-02,  -5.59136271e-01, ...,\n",
      "          2.39386270e-03,  -7.69601613e-02,  -4.50860739e+00],\n",
      "       ..., \n",
      "       [  1.95222989e-01,   8.68579000e-02,  -5.59375048e-01, ...,\n",
      "          1.98272150e-03,  -7.61895403e-02,  -4.49848413e+00],\n",
      "       [  2.13565856e-01,   8.45527425e-02,  -5.57738662e-01, ...,\n",
      "          2.24732212e-03,  -7.77153373e-02,  -4.48531866e+00],\n",
      "       [  2.25472242e-01,   8.30088332e-02,  -5.50675392e-01, ...,\n",
      "          2.24386272e-03,  -7.73361474e-02,  -4.45669031e+00]], dtype=float32), h=array([[  4.38208170e-02,   6.69913599e-03,  -4.59479868e-01, ...,\n",
      "          2.20366433e-04,  -6.09582337e-03,  -1.30305961e-01],\n",
      "       [  2.78519392e-02,   7.90240616e-03,  -4.80383605e-01, ...,\n",
      "          2.99100066e-04,  -5.70299244e-03,  -1.37973338e-01],\n",
      "       [  5.19976951e-02,   6.24613091e-03,  -4.46876526e-01, ...,\n",
      "          1.64874189e-04,  -6.31484203e-03,  -1.27369776e-01],\n",
      "       ..., \n",
      "       [  4.83303815e-02,   6.50612125e-03,  -4.46970493e-01, ...,\n",
      "          1.39380136e-04,  -6.19546371e-03,  -1.29262328e-01],\n",
      "       [  5.34756258e-02,   6.18270226e-03,  -4.45661932e-01, ...,\n",
      "          1.53927991e-04,  -6.41969079e-03,  -1.26706913e-01],\n",
      "       [  5.68990782e-02,   5.98569913e-03,  -4.41014111e-01, ...,\n",
      "          1.51344444e-04,  -6.43238658e-03,  -1.25696152e-01]], dtype=float32))\n",
      "[[  5.73048294e-02   1.12502195e-03  -1.55451950e-02 ...,  -2.81887036e-02\n",
      "    4.34004813e-02  -6.94672093e-02]\n",
      " [  2.17016656e-02   3.58537212e-02  -2.38036424e-01 ...,   9.32071730e-03\n",
      "    5.16583771e-03  -1.46407545e-01]\n",
      " [  2.70346943e-02   2.05349233e-02  -3.57374400e-01 ...,   4.63482179e-03\n",
      "   -4.78527509e-03  -1.22862659e-01]\n",
      " ..., \n",
      " [  5.56594990e-02   6.05427055e-03  -4.41674531e-01 ...,   1.51649743e-04\n",
      "   -6.38142135e-03  -1.26232237e-01]\n",
      " [  5.56269251e-02   6.04322506e-03  -4.42228496e-01 ...,   1.55933478e-04\n",
      "   -6.38165511e-03  -1.26106486e-01]\n",
      " [  5.57766333e-02   6.03216188e-03  -4.42261964e-01 ...,   1.55955961e-04\n",
      "   -6.39196951e-03  -1.25993267e-01]]\n",
      "LSTMStateTuple(c=array([[  2.18007982e-01,   8.42374116e-02,  -5.48001349e-01, ...,\n",
      "          1.81655493e-03,  -7.66275153e-02,  -4.45171165e+00],\n",
      "       [  2.15314642e-01,   8.41587484e-02,  -5.53427696e-01, ...,\n",
      "          2.30232510e-03,  -7.64635205e-02,  -4.45148659e+00],\n",
      "       [  2.10562080e-01,   8.50004554e-02,  -5.52221417e-01, ...,\n",
      "          1.90782873e-03,  -7.65426755e-02,  -4.47387791e+00],\n",
      "       ..., \n",
      "       [  2.20114306e-01,   8.36435705e-02,  -5.52137613e-01, ...,\n",
      "          2.24150554e-03,  -7.70027488e-02,  -4.45978689e+00],\n",
      "       [  2.20010042e-01,   8.35798234e-02,  -5.52909136e-01, ...,\n",
      "          2.30556517e-03,  -7.70361722e-02,  -4.45785332e+00],\n",
      "       [  2.21654966e-01,   8.33622813e-02,  -5.52395701e-01, ...,\n",
      "          2.30312021e-03,  -7.71318227e-02,  -4.44805050e+00]], dtype=float32), h=array([[  5.48615977e-02,   6.15782524e-03,  -4.39107031e-01, ...,\n",
      "          1.24272876e-04,  -6.34512678e-03,  -1.27187088e-01],\n",
      "       [  5.39389439e-02,   6.14218693e-03,  -4.43046451e-01, ...,\n",
      "          1.57350019e-04,  -6.30256534e-03,  -1.26941413e-01],\n",
      "       [  5.27087636e-02,   6.25623669e-03,  -4.42069530e-01, ...,\n",
      "          1.31544832e-04,  -6.29755808e-03,  -1.27719820e-01],\n",
      "       ..., \n",
      "       [  5.53476289e-02,   6.07059151e-03,  -4.42069441e-01, ...,\n",
      "          1.52258930e-04,  -6.37562945e-03,  -1.26336277e-01],\n",
      "       [  5.52992523e-02,   6.06103148e-03,  -4.42623794e-01, ...,\n",
      "          1.56491646e-04,  -6.37572166e-03,  -1.26218781e-01],\n",
      "       [  5.57766333e-02,   6.03216188e-03,  -4.42261964e-01, ...,\n",
      "          1.55955961e-04,  -6.39196951e-03,  -1.25993267e-01]], dtype=float32))\n"
     ]
    }
   ],
   "source": [
    "LEARMING_RATE = 0.05\n",
    "epochs = 5\n",
    "save_dir = './save55'\n",
    "\n",
    "feed_dict = {learining_rate: LEARMING_RATE}\n",
    "\n",
    "init = tf.global_variables_initializer()\n",
    "with tf.Session() as sess:\n",
    "    sess.run(init)\n",
    "    feeed_dict = {learining_rate: LEARMING_RATE}\n",
    "    for epoch in range(epochs):\n",
    "        batches = get_batch(batch_size)\n",
    "        for batch in batches:\n",
    "            feed_dict[inputs], feed_dict[outputs] = batch\n",
    "            sess.run(train, feed_dict)\n",
    "        print(\"Epoch: {}, loss: {}\".format(epoch, sess.run(loss, feed_dict)))\n",
    "    out, st = sess.run([lstm_output, lstm_state], feed_dict)\n",
    "    print(out[-1])\n",
    "    print(st)\n",
    "    feed_dict[inputs] = X_test.reshape((X_test.shape[0], X_test.shape[1], 1))\n",
    "    out, st = sess.run([lstm_output, lstm_state], feed_dict)\n",
    "    print(out[-1])\n",
    "    print(st)\n",
    "    saver = tf.train.Saver()\n",
    "    saver.save(sess, save_dir)"
   ]
  },
  {
   "cell_type": "code",
   "execution_count": 14,
   "metadata": {
    "collapsed": false,
    "deletable": true,
    "editable": true
   },
   "outputs": [
    {
     "name": "stdout",
     "output_type": "stream",
     "text": [
      "INFO:tensorflow:Restoring parameters from ./save55\n",
      "['rnn/basic_lstm_cell/weights:0', 'rnn/basic_lstm_cell/biases:0', 'fully_connected/weights:0', 'fully_connected/biases:0']\n"
     ]
    }
   ],
   "source": [
    "loaded_graph = tf.Graph()\n",
    "with tf.Session(graph=loaded_graph) as sess:\n",
    "    feed_dict = {}\n",
    "    loader = tf.train.import_meta_graph(save_dir + '.meta')\n",
    "    loader.restore(sess, save_dir)\n",
    "    variables_names = [v.name for v in tf.trainable_variables()]\n",
    "    inputs = loaded_graph.get_tensor_by_name(\"inputs:0\")\n",
    "    feed_dict[inputs] = X_test.reshape((X_test.shape[0], X_test.shape[1], 1))\n",
    "    print(variables_names)"
   ]
  },
  {
   "cell_type": "code",
   "execution_count": null,
   "metadata": {
    "collapsed": true
   },
   "outputs": [],
   "source": []
  }
 ],
 "metadata": {
  "kernelspec": {
   "display_name": "Python 3",
   "language": "python",
   "name": "python3"
  },
  "language_info": {
   "codemirror_mode": {
    "name": "ipython",
    "version": 3
   },
   "file_extension": ".py",
   "mimetype": "text/x-python",
   "name": "python",
   "nbconvert_exporter": "python",
   "pygments_lexer": "ipython3",
   "version": "3.6.1"
  }
 },
 "nbformat": 4,
 "nbformat_minor": 2
}
