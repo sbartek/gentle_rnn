{
 "cells": [
  {
   "cell_type": "markdown",
   "metadata": {
    "deletable": true,
    "editable": true
   },
   "source": [
    "https://www.youtube.com/watch?v=ftMq5ps503w"
   ]
  },
  {
   "cell_type": "code",
   "execution_count": 1,
   "metadata": {
    "collapsed": true,
    "deletable": true,
    "editable": true
   },
   "outputs": [],
   "source": [
    "import pickle\n",
    "\n",
    "import numpy as np\n",
    "import pandas as pd\n",
    "\n",
    "import tensorflow as tf"
   ]
  },
  {
   "cell_type": "markdown",
   "metadata": {
    "deletable": true,
    "editable": true
   },
   "source": [
    "https://www.tensorflow.org/programmers_guide/variables"
   ]
  },
  {
   "cell_type": "code",
   "execution_count": 2,
   "metadata": {
    "collapsed": true,
    "deletable": true,
    "editable": true
   },
   "outputs": [],
   "source": [
    "X = pd.read_csv('sp500.csv')"
   ]
  },
  {
   "cell_type": "code",
   "execution_count": 3,
   "metadata": {
    "collapsed": false,
    "deletable": true,
    "editable": true
   },
   "outputs": [
    {
     "data": {
      "text/plain": [
       "(4170, 1)"
      ]
     },
     "execution_count": 3,
     "metadata": {},
     "output_type": "execute_result"
    }
   ],
   "source": [
    "X.shape"
   ]
  },
  {
   "cell_type": "code",
   "execution_count": 4,
   "metadata": {
    "collapsed": true,
    "deletable": true,
    "editable": true
   },
   "outputs": [],
   "source": [
    "def normalise_windows(window_data):\n",
    "    normalised_data = []\n",
    "    for window in window_data:\n",
    "        normalised_window = [((float(p) / float(window[0])) - 1) for p in window]\n",
    "        normalised_data.append(normalised_window)\n",
    "    return normalised_data"
   ]
  },
  {
   "cell_type": "code",
   "execution_count": 5,
   "metadata": {
    "collapsed": true,
    "deletable": true,
    "editable": true
   },
   "outputs": [],
   "source": [
    "def load_data(filename, seq_len, normalise_window):\n",
    "    f = open(filename, 'r').read()\n",
    "    data = f.split('\\n')\n",
    "\n",
    "    sequence_length = seq_len + 1\n",
    "    result = []\n",
    "    for index in range(len(data) - sequence_length):\n",
    "        result.append(data[index: index + sequence_length])\n",
    "    \n",
    "    if normalise_window:\n",
    "        result = normalise_windows(result)\n",
    "\n",
    "    result = np.array(result)\n",
    "    \n",
    "    row = round(0.9 * result.shape[0])\n",
    "    train = result[:int(row), :]\n",
    "    np.random.shuffle(train)\n",
    "    x_train = train[:, :-1]\n",
    "    y_train = train[:, -1]\n",
    "    x_test = result[int(row):, :-1]\n",
    "    y_test = result[int(row):, -1]\n",
    "\n",
    "    #x_train = np.reshape(x_train, (x_train.shape[0], x_train.shape[1], 1))\n",
    "    #x_test = np.reshape(x_test, (x_test.shape[0], x_test.shape[1], 1))  \n",
    "    #x_train = x_train.transpose()\n",
    "    #x_test = y_test.transpose()\n",
    "    return [x_train, y_train, x_test, y_test]"
   ]
  },
  {
   "cell_type": "code",
   "execution_count": 6,
   "metadata": {
    "collapsed": false,
    "deletable": true,
    "editable": true
   },
   "outputs": [
    {
     "data": {
      "text/plain": [
       "((3709, 50), (3709,), (412, 50), (412,))"
      ]
     },
     "execution_count": 6,
     "metadata": {},
     "output_type": "execute_result"
    }
   ],
   "source": [
    "batch_size = 128\n",
    "lstm_units = 100\n",
    "seq_len = 50\n",
    "\n",
    "X_train, y_train, X_test, y_test = load_data('sp500.csv', seq_len, True)\n",
    "X_train.shape, y_train.shape, X_test.shape, y_test.shape"
   ]
  },
  {
   "cell_type": "code",
   "execution_count": 7,
   "metadata": {
    "collapsed": false,
    "deletable": true,
    "editable": true
   },
   "outputs": [],
   "source": [
    "def get_batch(batch_size=64, X=X_train, y=y_train):\n",
    "    n_batches = X.shape[0]//batch_size\n",
    "    for i in range(n_batches):\n",
    "        yield X[i*batch_size:(i+1)*batch_size, :].reshape(batch_size, -1, 1), y[i*batch_size : (i+1)*batch_size]"
   ]
  },
  {
   "cell_type": "code",
   "execution_count": 8,
   "metadata": {
    "collapsed": false,
    "deletable": true,
    "editable": true
   },
   "outputs": [
    {
     "data": {
      "text/plain": [
       "(412, 50, 1)"
      ]
     },
     "execution_count": 8,
     "metadata": {},
     "output_type": "execute_result"
    }
   ],
   "source": [
    "X_test.reshape((X_test.shape[0], X_test.shape[1], 1)).shape"
   ]
  },
  {
   "cell_type": "code",
   "execution_count": 9,
   "metadata": {
    "collapsed": false,
    "deletable": true,
    "editable": true
   },
   "outputs": [],
   "source": [
    "inputs = tf.placeholder(tf.float32, shape = [None, 50, 1], name='inputs')\n",
    "outputs = tf.placeholder(tf.float32, shape = [batch_size])\n",
    "learining_rate = tf.placeholder(tf.float32)"
   ]
  },
  {
   "cell_type": "code",
   "execution_count": 11,
   "metadata": {
    "collapsed": false,
    "deletable": true,
    "editable": true
   },
   "outputs": [],
   "source": [
    "with tf.name_scope('rec_layer'):\n",
    "    rnn_cell_1 = tf.contrib.rnn.BasicLSTMCell(num_units = lstm_units)\n",
    "    #initial_state = rnn_cell_1.zero_state(batch_size=batch_size, dtype=tf.float32)\n",
    "    lstm_output, lstm_state = tf.nn.dynamic_rnn(\n",
    "        cell=rnn_cell_1, \n",
    "        inputs=inputs, dtype=tf.float32)"
   ]
  },
  {
   "cell_type": "code",
   "execution_count": 12,
   "metadata": {
    "collapsed": false,
    "deletable": true,
    "editable": true
   },
   "outputs": [],
   "source": [
    "with tf.name_scope('output_layer'):\n",
    "    prediction = tf.contrib.layers.fully_connected(inputs=lstm_output[-1], num_outputs=1, activation_fn=None)\n",
    "    predictions = tf.identity(prediction, name=\"predictions\")\n",
    "    loss = tf.reduce_sum(tf.square(predictions-outputs))"
   ]
  },
  {
   "cell_type": "code",
   "execution_count": 13,
   "metadata": {
    "collapsed": false,
    "deletable": true,
    "editable": true
   },
   "outputs": [],
   "source": [
    "train = tf.train.AdamOptimizer(learning_rate=learining_rate).minimize(loss)"
   ]
  },
  {
   "cell_type": "code",
   "execution_count": 14,
   "metadata": {
    "collapsed": false,
    "deletable": true,
    "editable": true
   },
   "outputs": [
    {
     "name": "stdout",
     "output_type": "stream",
     "text": [
      "Epoch: 0, loss: 88.3808822631836\n",
      "Epoch: 1, loss: 49.719688415527344\n",
      "Epoch: 2, loss: 37.337623596191406\n",
      "Epoch: 3, loss: 35.57156753540039\n",
      "Epoch: 4, loss: 34.862159729003906\n",
      "[[  5.87154925e-02  -5.46705648e-02  -6.90078065e-02 ...,  -1.11796565e-01\n",
      "    8.88488293e-02   4.05296646e-02]\n",
      " [  3.35207917e-02  -9.54716951e-02  -6.15208708e-02 ...,  -1.67876095e-01\n",
      "    2.23025605e-01   3.75732854e-02]\n",
      " [  4.10036743e-02  -1.18737489e-01  -1.15247391e-01 ...,  -2.74366319e-01\n",
      "    5.50652623e-01   3.31741944e-03]\n",
      " ..., \n",
      " [  8.50512553e-03  -3.50078717e-02  -1.37481734e-01 ...,  -3.27027202e-01\n",
      "    9.43989933e-01   1.28798183e-05]\n",
      " [  8.50787293e-03  -3.51757258e-02  -1.37498215e-01 ...,  -3.28016728e-01\n",
      "    9.43970263e-01   1.28943148e-05]\n",
      " [  8.51150881e-03  -3.50673422e-02  -1.37538955e-01 ...,  -3.26624095e-01\n",
      "    9.44153011e-01   1.27954272e-05]]\n",
      "LSTMStateTuple(c=array([[  2.44765830e+00,  -2.46862561e-01,  -4.74752426e+00, ...,\n",
      "         -4.40140820e+00,   2.85064507e+01,   4.98513691e-03],\n",
      "       [  2.45052171e+00,  -2.43843406e-01,  -4.74847651e+00, ...,\n",
      "         -4.41809988e+00,   2.85162678e+01,   4.94121248e-03],\n",
      "       [  2.43813229e+00,  -2.52765596e-01,  -4.74621820e+00, ...,\n",
      "         -4.36688519e+00,   2.84574642e+01,   5.09847282e-03],\n",
      "       ..., \n",
      "       [  2.44885397e+00,  -2.48353630e-01,  -4.74712753e+00, ...,\n",
      "         -4.39200258e+00,   2.85189686e+01,   5.02338214e-03],\n",
      "       [  2.45514536e+00,  -2.45013386e-01,  -4.74841928e+00, ...,\n",
      "         -4.41171551e+00,   2.85458317e+01,   4.96081449e-03],\n",
      "       [  2.42165065e+00,  -2.63074398e-01,  -4.74207640e+00, ...,\n",
      "         -4.31510973e+00,   2.83831272e+01,   5.21694636e-03]], dtype=float32), h=array([[  8.48970562e-03,  -3.13312113e-02,  -1.38229370e-01, ...,\n",
      "         -3.12486023e-01,   9.45755243e-01,   1.17897880e-05],\n",
      "       [  8.48378986e-03,  -3.06555163e-02,  -1.38366148e-01, ...,\n",
      "         -3.09934705e-01,   9.46052194e-01,   1.16031497e-05],\n",
      "       [  8.49780347e-03,  -3.29009034e-02,  -1.37927309e-01, ...,\n",
      "         -3.19964916e-01,   9.44954515e-01,   1.22759802e-05],\n",
      "       ..., \n",
      "       [  8.49358551e-03,  -3.17987651e-02,  -1.38121739e-01, ...,\n",
      "         -3.14956427e-01,   9.45486963e-01,   1.19530187e-05],\n",
      "       [  8.48597195e-03,  -3.09505668e-02,  -1.38308823e-01, ...,\n",
      "         -3.11309218e-01,   9.45912480e-01,   1.16857564e-05],\n",
      "       [  8.51150881e-03,  -3.50673422e-02,  -1.37538955e-01, ...,\n",
      "         -3.26624095e-01,   9.44153011e-01,   1.27954272e-05]], dtype=float32))\n",
      "[[  5.87154925e-02  -5.46705648e-02  -6.90078065e-02 ...,  -1.11796565e-01\n",
      "    8.88488293e-02   4.05296646e-02]\n",
      " [  3.36436369e-02  -9.52824801e-02  -6.16755188e-02 ...,  -1.67343438e-01\n",
      "    2.23808244e-01   3.75140160e-02]\n",
      " [  4.10580337e-02  -1.18367158e-01  -1.15342706e-01 ...,  -2.73587078e-01\n",
      "    5.52005351e-01   3.28035722e-03]\n",
      " ..., \n",
      " [  8.48571211e-03  -3.10301892e-02  -1.38219908e-01 ...,  -3.11019838e-01\n",
      "    9.45761144e-01   1.17711952e-05]\n",
      " [  8.48750304e-03  -3.10097598e-02  -1.38253257e-01 ...,  -3.11050683e-01\n",
      "    9.45832789e-01   1.17355366e-05]\n",
      " [  8.48860014e-03  -3.09819188e-02  -1.38292268e-01 ...,  -3.11073661e-01\n",
      "    9.45906162e-01   1.16970668e-05]]\n",
      "LSTMStateTuple(c=array([[  2.45023179e+00,  -2.45669171e-01,  -4.74857235e+00, ...,\n",
      "         -4.40616179e+00,   2.85133972e+01,   4.99303080e-03],\n",
      "       [  2.45098805e+00,  -2.45952874e-01,  -4.74897671e+00, ...,\n",
      "         -4.40463495e+00,   2.85165710e+01,   4.99383640e-03],\n",
      "       [  2.44453359e+00,  -2.47848883e-01,  -4.74779224e+00, ...,\n",
      "         -4.39355707e+00,   2.84868412e+01,   5.03200246e-03],\n",
      "       ..., \n",
      "       [  2.44899011e+00,  -2.45899379e-01,  -4.74757576e+00, ...,\n",
      "         -4.40665054e+00,   2.85146027e+01,   4.97312471e-03],\n",
      "       [  2.44947219e+00,  -2.45848507e-01,  -4.74754572e+00, ...,\n",
      "         -4.40689373e+00,   2.85170231e+01,   4.97206440e-03],\n",
      "       [  2.45243096e+00,  -2.45288208e-01,  -4.74806499e+00, ...,\n",
      "         -4.40997458e+00,   2.85308762e+01,   4.96324245e-03]], dtype=float32), h=array([[  8.48650094e-03,  -3.12656611e-02,  -1.38235614e-01, ...,\n",
      "         -3.13545585e-01,   9.45686698e-01,   1.18219532e-05],\n",
      "       [  8.48946813e-03,  -3.12884040e-02,  -1.38211712e-01, ...,\n",
      "         -3.13088506e-01,   9.45703328e-01,   1.18258004e-05],\n",
      "       [  8.49048886e-03,  -3.18082944e-02,  -1.38127834e-01, ...,\n",
      "         -3.15924704e-01,   9.45415795e-01,   1.19890428e-05],\n",
      "       ..., \n",
      "       [  8.48834962e-03,  -3.11288126e-02,  -1.38268843e-01, ...,\n",
      "         -3.11789930e-01,   9.45835531e-01,   1.17387635e-05],\n",
      "       [  8.48888420e-03,  -3.11120544e-02,  -1.38266966e-01, ...,\n",
      "         -3.11636806e-01,   9.45844829e-01,   1.17344653e-05],\n",
      "       [  8.48860014e-03,  -3.09819188e-02,  -1.38292268e-01, ...,\n",
      "         -3.11073661e-01,   9.45906162e-01,   1.16970668e-05]], dtype=float32))\n"
     ]
    }
   ],
   "source": [
    "LEARMING_RATE = 0.05\n",
    "epochs = 5\n",
    "save_dir = './save55'\n",
    "\n",
    "feed_dict = {learining_rate: LEARMING_RATE}\n",
    "\n",
    "init = tf.global_variables_initializer()\n",
    "with tf.Session() as sess:\n",
    "    sess.run(init)\n",
    "    feeed_dict = {learining_rate: LEARMING_RATE}\n",
    "    for epoch in range(epochs):\n",
    "        batches = get_batch(batch_size)\n",
    "        for batch in batches:\n",
    "            feed_dict[inputs], feed_dict[outputs] = batch\n",
    "            sess.run(train, feed_dict)\n",
    "        print(\"Epoch: {}, loss: {}\".format(epoch, sess.run(loss, feed_dict)))\n",
    "    out, st = sess.run([lstm_output, lstm_state], feed_dict)\n",
    "    print(out[-1])\n",
    "    print(st)\n",
    "    feed_dict[inputs] = X_test.reshape((X_test.shape[0], X_test.shape[1], 1))\n",
    "    out, st = sess.run([lstm_output, lstm_state], feed_dict)\n",
    "    print(out[-1])\n",
    "    print(st)\n",
    "    saver = tf.train.Saver()\n",
    "    saver.save(sess, save_dir)"
   ]
  },
  {
   "cell_type": "code",
   "execution_count": null,
   "metadata": {
    "collapsed": false,
    "deletable": true,
    "editable": true
   },
   "outputs": [],
   "source": [
    "loaded_graph = tf.Graph()\n",
    "with tf.Session(graph=loaded_graph) as sess:\n",
    "    feed_dict = {}\n",
    "    loader = tf.train.import_meta_graph(save_dir + '.meta')\n",
    "    loader.restore(sess, save_dir)\n",
    "    variables_names = [v.name for v in tf.trainable_variables()]\n",
    "    inputs = loaded_graph.get_tensor_by_name(\"inputs:0\")\n",
    "    feed_dict[inputs] = X_test.reshape((X_test.shape[0], X_test.shape[1], 1))\n",
    "    print(variables_names)"
   ]
  },
  {
   "cell_type": "code",
   "execution_count": null,
   "metadata": {
    "collapsed": true,
    "deletable": true,
    "editable": true
   },
   "outputs": [],
   "source": []
  }
 ],
 "metadata": {
  "kernelspec": {
   "display_name": "Python 3",
   "language": "python",
   "name": "python3"
  },
  "language_info": {
   "codemirror_mode": {
    "name": "ipython",
    "version": 3
   },
   "file_extension": ".py",
   "mimetype": "text/x-python",
   "name": "python",
   "nbconvert_exporter": "python",
   "pygments_lexer": "ipython3",
   "version": "3.6.1"
  }
 },
 "nbformat": 4,
 "nbformat_minor": 2
}
