{
 "cells": [
  {
   "cell_type": "code",
   "execution_count": 1,
   "metadata": {
    "collapsed": true
   },
   "outputs": [],
   "source": [
    "import numpy as np\n",
    "import tensorflow as tf"
   ]
  },
  {
   "cell_type": "code",
   "execution_count": 24,
   "metadata": {},
   "outputs": [],
   "source": [
    "x = tf.placeholder(tf.float32, (None, None))\n",
    "y1 = tf.strided_slice(x, [0, 0], [2, 2], [1, 1])\n",
    "y2 = tf.strided_slice(x, [0, 0], [6, 4], [2, 1])\n",
    "y1_slice = tf.slice(x, [0,0], [2, 2])\n",
    "y3_slice = tf.slice(x, [0,0], [2, -1]) \n",
    "#that includs -1  \n",
    "y3 = tf.strided_slice(x, [0,0], [2, -1], [1, 1]) \n"
   ]
  },
  {
   "cell_type": "code",
   "execution_count": 27,
   "metadata": {},
   "outputs": [
    {
     "name": "stdout",
     "output_type": "stream",
     "text": [
      "[[ 1.  2.  3.]\n",
      " [ 4.  5.  6.]\n",
      " [ 7.  8.  9.]]\n",
      "[[ 1.  2.]\n",
      " [ 4.  5.]]\n",
      "[[ 1.  2.]\n",
      " [ 4.  5.]]\n",
      "[[  0.   1.   2.   3.   4.   5.]\n",
      " [  6.   7.   8.   9.  10.  11.]\n",
      " [ 12.  13.  14.  15.  16.  17.]\n",
      " [ 18.  19.  20.  21.  22.  23.]\n",
      " [ 24.  25.  26.  27.  28.  29.]\n",
      " [ 30.  31.  32.  33.  34.  35.]\n",
      " [ 36.  37.  38.  39.  40.  41.]\n",
      " [ 42.  43.  44.  45.  46.  47.]\n",
      " [ 48.  49.  50.  51.  52.  53.]\n",
      " [ 54.  55.  56.  57.  58.  59.]]\n",
      "[[  0.   1.   2.   3.]\n",
      " [ 12.  13.  14.  15.]\n",
      " [ 24.  25.  26.  27.]]\n",
      "[[  0.   1.   2.   3.   4.]\n",
      " [  6.   7.   8.   9.  10.]]\n",
      "[[  0.   1.   2.   3.   4.   5.]\n",
      " [  6.   7.   8.   9.  10.  11.]]\n"
     ]
    }
   ],
   "source": [
    "init = tf.global_variables_initializer()\n",
    "\n",
    "n, m = 10, 6\n",
    "feed_dict1 = {x: [[1, 2, 3], [4, 5, 6], [7, 8, 9]]}\n",
    "feed_dict2 = {x: np.reshape(np.array(range(n * m)), (n, m))}\n",
    "\n",
    "\n",
    "with tf.Session() as sess:\n",
    "    sess.run(init)\n",
    "    print(sess.run(x, feed_dict1))\n",
    "    print(sess.run(y1, feed_dict1))\n",
    "    print(sess.run(y1_slice, feed_dict1))\n",
    "    print(sess.run(x, feed_dict2))\n",
    "    print(sess.run(y2, feed_dict2))\n",
    "    print(sess.run(y3, feed_dict2))\n",
    "    print(sess.run(y3_slice, feed_dict2))"
   ]
  }
 ],
 "metadata": {
  "kernelspec": {
   "display_name": "Python 3",
   "language": "python",
   "name": "python3"
  },
  "language_info": {
   "codemirror_mode": {
    "name": "ipython",
    "version": 3
   },
   "file_extension": ".py",
   "mimetype": "text/x-python",
   "name": "python",
   "nbconvert_exporter": "python",
   "pygments_lexer": "ipython3",
   "version": "3.6.1"
  }
 },
 "nbformat": 4,
 "nbformat_minor": 2
}
