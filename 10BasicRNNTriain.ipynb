{
 "cells": [
  {
   "cell_type": "code",
   "execution_count": 1,
   "metadata": {
    "collapsed": true
   },
   "outputs": [],
   "source": [
    "import numpy as np\n",
    "import tensorflow as tf\n",
    "\n",
    "def sigmoid(x):\n",
    "    return 1/(1+np.exp(-x))\n",
    "\n",
    "n_inputs = 1000000\n",
    "n_nodes = 3\n",
    "n_steps = 2\n",
    "\n",
    "n_cols = 2"
   ]
  },
  {
   "cell_type": "code",
   "execution_count": 2,
   "metadata": {
    "collapsed": true
   },
   "outputs": [],
   "source": [
    "data_x1 = np.array(np.random.rand(n_inputs, n_cols))*2 -1\n",
    "data_x2 = np.array(np.random.rand(n_inputs, n_cols))*2 -1"
   ]
  },
  {
   "cell_type": "code",
   "execution_count": 3,
   "metadata": {
    "collapsed": true
   },
   "outputs": [],
   "source": [
    "state_0 = np.zeros([n_inputs, n_nodes])\n",
    "\n",
    "W = np.array([[1, 0, -1], [2, 2, 1]])\n",
    "U = np.array([[1, 1, 0], [0, -2, -1], [-1, 0, 1]])\n",
    "b = np.array([0.5, -0.5, 1])\n",
    "\n",
    "WU = np.concatenate([W, U])\n",
    "\n",
    "def getState(data_x, state, WU, b):\n",
    "    data = np.concatenate([data_x, state], axis=1)\n",
    "    return np.tanh(np.matmul(data, WU) + b)\n",
    "\n",
    "state_1 = getState(data_x1, state_0, WU, b)\n",
    "state_2 = getState(data_x2, state_1, WU, b)\n",
    "all_states = np.concatenate([state_1, state_2])\n",
    "\n"
   ]
  },
  {
   "cell_type": "code",
   "execution_count": 4,
   "metadata": {
    "collapsed": true
   },
   "outputs": [],
   "source": [
    "Wo = np.array([[1], [-1], [0.5]])\n",
    "bo = np.array([-0.5])\n",
    "\n",
    "final_output = sigmoid(np.matmul(all_states, Wo) + bo)"
   ]
  },
  {
   "cell_type": "code",
   "execution_count": 5,
   "metadata": {},
   "outputs": [
    {
     "data": {
      "text/plain": [
       "(2000000, 1)"
      ]
     },
     "execution_count": 5,
     "metadata": {},
     "output_type": "execute_result"
    }
   ],
   "source": [
    "final_output.shape"
   ]
  },
  {
   "cell_type": "code",
   "execution_count": 6,
   "metadata": {},
   "outputs": [],
   "source": [
    "inputs = tf.placeholder(tf.float32, shape=[n_steps, n_inputs, n_cols])\n",
    "inputs_seq = tf.unstack(inputs)\n",
    "outputs = tf.placeholder(tf.float32, shape=[n_steps*n_inputs, 1])\n",
    "\n",
    "with tf.name_scope('rnn_cell'):\n",
    "    basic_cell = tf.contrib.rnn.BasicRNNCell(num_units=n_nodes, activation=tf.sigmoid)\n",
    "    cell_output, state = tf.contrib.rnn.static_rnn(\n",
    "        cell=basic_cell, inputs=inputs_seq,  dtype=tf.float32)\n",
    "\n",
    "    all_cell_output = tf.concat(cell_output, axis=0)"
   ]
  },
  {
   "cell_type": "code",
   "execution_count": null,
   "metadata": {
    "collapsed": true
   },
   "outputs": [],
   "source": [
    "with tf.name_scope(\"output_layer\"):\n",
    "    output_weights = tf.Variable(tf.truncated_normal([n_nodes, 1]))\n",
    "    output_bias = tf.Variable(tf.zeros([1]))\n",
    "    prediction = tf.sigmoid(tf.matmul(all_cell_output, output_weights) + output_bias)\n",
    "    \n",
    "with tf.name_scope('evaluation'):\n",
    "    loss = tf.reduce_mean(tf.square(prediction - outputs))"
   ]
  },
  {
   "cell_type": "code",
   "execution_count": 20,
   "metadata": {
    "collapsed": true
   },
   "outputs": [],
   "source": [
    "learning_rate = 0.001\n",
    "\n",
    "optimaizer = tf.train.AdamOptimizer(learning_rate = learning_rate)\n",
    "train = optimaizer.minimize(loss)"
   ]
  },
  {
   "cell_type": "code",
   "execution_count": 22,
   "metadata": {},
   "outputs": [
    {
     "name": "stdout",
     "output_type": "stream",
     "text": [
      "0.0272215\n",
      "0.0251074\n",
      "0.0232011\n",
      "0.0215216\n",
      "0.0200732\n",
      "0.0188465\n",
      "0.0178238\n",
      "0.0169824\n",
      "0.0162969\n",
      "0.0157425\n",
      "rnn/basic_rnn_cell/weights:0 [[-0.52484196  0.06126241  0.32770014]\n",
      " [ 0.32972711  0.28508118  0.38783094]\n",
      " [-0.07141124  0.06239102 -0.48181555]\n",
      " [-0.37223026 -0.09905472 -0.27686185]\n",
      " [ 0.29076529 -0.71856272 -0.57185042]]\n",
      "rnn/basic_rnn_cell/biases:0 [-0.07642635  0.08180234 -0.07769082]\n",
      "output_layer/Variable:0 [[ 0.89362514]\n",
      " [-1.64104211]\n",
      " [ 1.51233077]]\n",
      "output_layer/Variable_1:0 [-0.07967644]\n"
     ]
    }
   ],
   "source": [
    "init = tf.global_variables_initializer()\n",
    "feed_dict = {inputs: np.array([data_x1, data_x2]), outputs: final_output}\n",
    "\n",
    "epochs = 100\n",
    "\n",
    "with tf.Session() as sess:\n",
    "    sess.run(init)\n",
    "    for i in range(epochs):\n",
    "        sess.run(train, feed_dict)\n",
    "        if i%10 ==0:\n",
    "            print(sess.run(loss, feed_dict))\n",
    "    variables_names =[v.name for v in tf.trainable_variables()]\n",
    "    values = sess.run(variables_names)\n",
    "    for k,v in zip(variables_names, values):\n",
    "        print(k, v)"
   ]
  },
  {
   "cell_type": "code",
   "execution_count": null,
   "metadata": {
    "collapsed": true
   },
   "outputs": [],
   "source": []
  }
 ],
 "metadata": {
  "kernelspec": {
   "display_name": "Python 3",
   "language": "python",
   "name": "python3"
  },
  "language_info": {
   "codemirror_mode": {
    "name": "ipython",
    "version": 3
   },
   "file_extension": ".py",
   "mimetype": "text/x-python",
   "name": "python",
   "nbconvert_exporter": "python",
   "pygments_lexer": "ipython3",
   "version": "3.6.1"
  }
 },
 "nbformat": 4,
 "nbformat_minor": 2
}
