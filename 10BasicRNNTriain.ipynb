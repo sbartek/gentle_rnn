{
 "cells": [
  {
   "cell_type": "code",
   "execution_count": 1,
   "metadata": {
    "collapsed": true
   },
   "outputs": [],
   "source": [
    "import numpy as np\n",
    "import tensorflow as tf\n",
    "\n",
    "def sigmoid(x):\n",
    "    return 1/(1+np.exp(-x))\n",
    "\n",
    "n_inputs = 1000000\n",
    "n_nodes = 3\n",
    "n_steps = 2\n",
    "\n",
    "n_cols = 2"
   ]
  },
  {
   "cell_type": "code",
   "execution_count": 2,
   "metadata": {},
   "outputs": [],
   "source": [
    "data_x1 = np.array(np.random.rand(n_inputs, n_cols))*2 -1\n",
    "data_x2 = np.array(np.random.rand(n_inputs, n_cols))*2 -1\n",
    "data_xx = np.array([data_x1, data_x2])"
   ]
  },
  {
   "cell_type": "code",
   "execution_count": 3,
   "metadata": {
    "collapsed": true
   },
   "outputs": [],
   "source": [
    "state_0 = np.zeros([n_inputs, n_nodes])\n",
    "\n",
    "W = np.array([[1, 0, -1], [2, 2, 1]])\n",
    "U = np.array([[1, 1, 0], [0, -2, -1], [-1, 0, 1]])\n",
    "b = np.array([0.5, -0.5, 1])\n",
    "\n",
    "WU = np.concatenate([W, U])\n",
    "\n",
    "def getState(data_x, state, WU, b):\n",
    "    data = np.concatenate([data_x, state], axis=1)\n",
    "    return sigmoid(np.matmul(data, WU) + b)\n",
    "\n",
    "state_1 = getState(data_x1, state_0, WU, b)\n",
    "state_2 = getState(data_x2, state_1, WU, b)"
   ]
  },
  {
   "cell_type": "code",
   "execution_count": 4,
   "metadata": {},
   "outputs": [],
   "source": [
    "data_y = state_2"
   ]
  },
  {
   "cell_type": "code",
   "execution_count": 5,
   "metadata": {},
   "outputs": [],
   "source": [
    "inputs = tf.placeholder(tf.float32, shape=[n_steps, n_inputs, n_cols])\n",
    "inputs_seq = tf.unstack(inputs)\n",
    "outputs = tf.placeholder(tf.float32, shape=[n_inputs, 1])\n",
    "\n",
    "basic_cell = tf.contrib.rnn.BasicRNNCell(num_units=n_nodes, activation=tf.sigmoid)\n",
    "output, state = tf.contrib.rnn.static_rnn(\n",
    "        cell=basic_cell, inputs=inputs_seq, dtype=tf.float32)\n"
   ]
  },
  {
   "cell_type": "code",
   "execution_count": null,
   "metadata": {
    "collapsed": true
   },
   "outputs": [],
   "source": []
  }
 ],
 "metadata": {
  "kernelspec": {
   "display_name": "Python 3",
   "language": "python",
   "name": "python3"
  },
  "language_info": {
   "codemirror_mode": {
    "name": "ipython",
    "version": 3
   },
   "file_extension": ".py",
   "mimetype": "text/x-python",
   "name": "python",
   "nbconvert_exporter": "python",
   "pygments_lexer": "ipython3",
   "version": "3.6.1"
  }
 },
 "nbformat": 4,
 "nbformat_minor": 2
}
