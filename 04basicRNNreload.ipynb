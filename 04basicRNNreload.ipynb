{
 "cells": [
  {
   "cell_type": "code",
   "execution_count": 1,
   "metadata": {
    "collapsed": true
   },
   "outputs": [],
   "source": [
    "import numpy as np\n",
    "import tensorflow as tf\n",
    "\n",
    "data_x1 = np.array([[0., 1.], [1, 0], [1, 1], [0, -1], [-1, 0], [-1, -1], [-1,-1]])\n",
    "data_x2 = np.array([[1., 0.], [-1, 1], [0, -2], [2, 1], [1, -1], [2, 2], [1, 1]])"
   ]
  },
  {
   "cell_type": "code",
   "execution_count": 2,
   "metadata": {
    "collapsed": true
   },
   "outputs": [],
   "source": [
    "n_inputs = data_x1.shape[0]\n",
    "_input = tf.placeholder(tf.float32, shape=[None, 2], name='INPUT') \n",
    "# this variable is for saving output of the cell\n",
    "state = tf.Variable(tf.zeros([n_inputs, 1]), name=\"STATE\")"
   ]
  },
  {
   "cell_type": "code",
   "execution_count": 3,
   "metadata": {
    "collapsed": true
   },
   "outputs": [],
   "source": [
    "with tf.name_scope('rec_layer'):\n",
    "    tfW = tf.constant([[-1.], [2.]], dtype=tf.float32)\n",
    "    tfU = tf.constant([[4.]], dtype=tf.float32)\n",
    "    tfB = tf.constant([-1.], dtype=tf.float32)\n",
    "    update_state = tf.assign(state, tf.nn.sigmoid(tf.matmul(_input, tfW) + tf.matmul(state, tfU) + tfB))"
   ]
  },
  {
   "cell_type": "code",
   "execution_count": 4,
   "metadata": {},
   "outputs": [
    {
     "name": "stdout",
     "output_type": "stream",
     "text": [
      "[[ 0.71590412]\n",
      " [ 0.92250019]\n",
      " [ 0.04742587]\n",
      " [ 0.30782729]\n",
      " [ 0.11920292]\n",
      " [ 0.81409055]\n",
      " [ 0.61699468]]\n"
     ]
    }
   ],
   "source": [
    "feed_dict1 = {_input: data_x1}\n",
    "feed_dict2 = {_input: data_x2}\n",
    "init = tf.global_variables_initializer()\n",
    "with tf.Session() as sess:    \n",
    "    sess.run(init)\n",
    "    writer = tf.summary.FileWriter('logs/04')\n",
    "    writer.add_graph(sess.graph)\n",
    "    sess.run(update_state , feed_dict1)\n",
    "    sess.run(update_state , feed_dict2)\n",
    "    print(sess.run(state))"
   ]
  }
 ],
 "metadata": {
  "kernelspec": {
   "display_name": "Python 3",
   "language": "python",
   "name": "python3"
  },
  "language_info": {
   "codemirror_mode": {
    "name": "ipython",
    "version": 3
   },
   "file_extension": ".py",
   "mimetype": "text/x-python",
   "name": "python",
   "nbconvert_exporter": "python",
   "pygments_lexer": "ipython3",
   "version": "3.6.1"
  }
 },
 "nbformat": 4,
 "nbformat_minor": 2
}
