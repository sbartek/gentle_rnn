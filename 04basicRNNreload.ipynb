{
 "cells": [
  {
   "cell_type": "markdown",
   "metadata": {},
   "source": [
    "## Basic RNN \n",
    "\n",
    "Now let's write the previous code the way that we can update cells as many times as we want using `assign` and initializing state to zero."
   ]
  },
  {
   "cell_type": "code",
   "execution_count": 2,
   "metadata": {
    "collapsed": true,
    "deletable": true,
    "editable": true
   },
   "outputs": [],
   "source": [
    "import numpy as np\n",
    "import tensorflow as tf\n",
    "\n",
    "data_x1 = np.array([[0., 1.], [1, 0], [1, 1], [0, -1], [-1, 0], [-1, -1], [-1,-1]])\n",
    "data_x2 = np.array([[1., 0.], [-1, 1], [0, -2], [2, 1], [1, -1], [2, 2], [1, 1]])"
   ]
  },
  {
   "cell_type": "code",
   "execution_count": 3,
   "metadata": {
    "collapsed": true,
    "deletable": true,
    "editable": true
   },
   "outputs": [],
   "source": [
    "n_inputs = data_x1.shape[0]\n",
    "_input = tf.placeholder(tf.float32, shape=[None, 2], name='INPUT') \n",
    "# this variable is for saving output of the cell\n",
    "state = tf.Variable(tf.zeros([n_inputs, 1]), name=\"STATE\")"
   ]
  },
  {
   "cell_type": "code",
   "execution_count": 4,
   "metadata": {
    "collapsed": true,
    "deletable": true,
    "editable": true
   },
   "outputs": [],
   "source": [
    "with tf.name_scope('rec_layer'):\n",
    "    tfW = tf.constant([[-1.], [2.]], dtype=tf.float32)\n",
    "    tfU = tf.constant([[4.]], dtype=tf.float32)\n",
    "    tfB = tf.constant([-1.], dtype=tf.float32)\n",
    "    update_state = tf.assign(state, tf.nn.tanh(tf.matmul(_input, tfW) + tf.matmul(state, tfU) + tfB))"
   ]
  },
  {
   "cell_type": "code",
   "execution_count": 5,
   "metadata": {
    "collapsed": false,
    "deletable": true,
    "editable": true
   },
   "outputs": [
    {
     "name": "stdout",
     "output_type": "stream",
     "text": [
      "[[ 0.78039378]\n",
      " [-0.95231807]\n",
      " [-0.99990916]\n",
      " [-0.99990541]\n",
      " [-0.99932921]\n",
      " [-0.99341124]\n",
      " [-0.99910557]]\n"
     ]
    }
   ],
   "source": [
    "feed_dict1 = {_input: data_x1}\n",
    "feed_dict2 = {_input: data_x2}\n",
    "init = tf.global_variables_initializer()\n",
    "with tf.Session() as sess:    \n",
    "    sess.run(init)\n",
    "    writer = tf.summary.FileWriter('logs/04')\n",
    "    writer.add_graph(sess.graph)\n",
    "    sess.run(update_state , feed_dict1)\n",
    "    sess.run(update_state , feed_dict2)\n",
    "    print(sess.run(state))"
   ]
  }
 ],
 "metadata": {
  "kernelspec": {
   "display_name": "Python 3",
   "language": "python",
   "name": "python3"
  },
  "language_info": {
   "codemirror_mode": {
    "name": "ipython",
    "version": 3
   },
   "file_extension": ".py",
   "mimetype": "text/x-python",
   "name": "python",
   "nbconvert_exporter": "python",
   "pygments_lexer": "ipython3",
   "version": "3.6.1"
  }
 },
 "nbformat": 4,
 "nbformat_minor": 2
}
