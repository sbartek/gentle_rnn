{
 "cells": [
  {
   "cell_type": "code",
   "execution_count": 1,
   "metadata": {
    "collapsed": true
   },
   "outputs": [],
   "source": [
    "import numpy as np\n",
    "import tensorflow as tf\n",
    "\n",
    "def sigmoid(x):\n",
    "    return 1/(1+np.exp(-x))\n",
    "\n",
    "data_x1 = np.array([[0., 1.], [1, 0], [1, 1], [0, -1], [-1, 0], [-1, -1], [-1,-1]])\n",
    "data_x2 = np.array([[1., 0.], [-1, 1], [0, -2], [2, 1], [1, -1], [2, 2], [1, 1]])"
   ]
  },
  {
   "cell_type": "markdown",
   "metadata": {},
   "source": [
    "## Numpy version\n",
    "\n",
    "output = new_state = act(W * input + U * state + B)."
   ]
  },
  {
   "cell_type": "code",
   "execution_count": 2,
   "metadata": {},
   "outputs": [
    {
     "name": "stdout",
     "output_type": "stream",
     "text": [
      "[[ 0.73105858]\n",
      " [ 0.11920292]\n",
      " [ 0.5       ]\n",
      " [ 0.04742587]\n",
      " [ 0.5       ]\n",
      " [ 0.11920292]\n",
      " [ 0.11920292]]\n",
      "[[ 0.71590409]\n",
      " [ 0.92250016]\n",
      " [ 0.04742587]\n",
      " [ 0.30782732]\n",
      " [ 0.11920292]\n",
      " [ 0.81409052]\n",
      " [ 0.61699472]]\n"
     ]
    }
   ],
   "source": [
    "npW = np.array([[-1.], [2.]])\n",
    "npU = np.array([[4.]])\n",
    "npB = np.array([-1.])\n",
    "\n",
    "state_1 = sigmoid(np.matmul(data_x1, npW) + npB)\n",
    "print(state_1)\n",
    "\n",
    "state_2 = sigmoid(np.matmul(data_x2, npW) + np.matmul(state_1, npU) + npB)\n",
    "print(state_2)"
   ]
  },
  {
   "cell_type": "markdown",
   "metadata": {},
   "source": [
    "## The same with tensorflow"
   ]
  },
  {
   "cell_type": "code",
   "execution_count": 3,
   "metadata": {
    "collapsed": true
   },
   "outputs": [],
   "source": [
    "input_1 = tf.placeholder(tf.float32, shape=[None, 2], name='input_1') \n",
    "input_2 = tf.placeholder(tf.float32, shape=[None, 2], name='input_2')\n",
    "    \n",
    "\n",
    "with tf.name_scope('rec1_layer'):\n",
    "    tfW = tf.constant([[-1.], [2.]], dtype=tf.float32)\n",
    "    tfU = tf.constant([[4.]], dtype=tf.float32)\n",
    "    tfB = tf.constant([-1.], dtype=tf.float32)\n",
    "    state_1 = tf.nn.sigmoid(tf.matmul(input_1, tfW) + tfB)\n",
    "    \n",
    "with tf.name_scope('rec2_layer'):\n",
    "    state_2 = tf.nn.sigmoid(tf.matmul(input_2, tfW) + tf.matmul(state_1, tfU) + tfB)"
   ]
  },
  {
   "cell_type": "code",
   "execution_count": 4,
   "metadata": {},
   "outputs": [
    {
     "name": "stdout",
     "output_type": "stream",
     "text": [
      "[[ 0.71590412]\n",
      " [ 0.92250019]\n",
      " [ 0.04742587]\n",
      " [ 0.30782729]\n",
      " [ 0.11920292]\n",
      " [ 0.81409055]\n",
      " [ 0.61699468]]\n"
     ]
    }
   ],
   "source": [
    "feed_dict = {input_1: data_x1, input_2: data_x2}\n",
    "with tf.Session() as sess:\n",
    "    writer = tf.summary.FileWriter('logs/03')\n",
    "    writer.add_graph(sess.graph)\n",
    "    print(sess.run(state_2, feed_dict))"
   ]
  },
  {
   "cell_type": "markdown",
   "metadata": {},
   "source": [
    "## Another version"
   ]
  },
  {
   "cell_type": "code",
   "execution_count": 15,
   "metadata": {
    "collapsed": true
   },
   "outputs": [],
   "source": []
  },
  {
   "cell_type": "code",
   "execution_count": 20,
   "metadata": {
    "collapsed": true
   },
   "outputs": [],
   "source": []
  },
  {
   "cell_type": "code",
   "execution_count": 21,
   "metadata": {},
   "outputs": [
    {
     "name": "stdout",
     "output_type": "stream",
     "text": [
      "[[ 0.71590412]\n",
      " [ 0.92250019]\n",
      " [ 0.04742587]\n",
      " [ 0.30782729]\n",
      " [ 0.11920292]\n",
      " [ 0.81409055]\n",
      " [ 0.61699468]]\n"
     ]
    }
   ],
   "source": []
  }
 ],
 "metadata": {
  "kernelspec": {
   "display_name": "Python 3",
   "language": "python",
   "name": "python3"
  },
  "language_info": {
   "codemirror_mode": {
    "name": "ipython",
    "version": 3
   },
   "file_extension": ".py",
   "mimetype": "text/x-python",
   "name": "python",
   "nbconvert_exporter": "python",
   "pygments_lexer": "ipython3",
   "version": "3.6.1"
  }
 },
 "nbformat": 4,
 "nbformat_minor": 2
}
