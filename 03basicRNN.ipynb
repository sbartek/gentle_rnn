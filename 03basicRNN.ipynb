{
 "cells": [
  {
   "cell_type": "markdown",
   "metadata": {},
   "source": [
    "# Basic RNN\n",
    "\n",
    "http://colah.github.io/posts/2015-08-Understanding-LSTMs/"
   ]
  },
  {
   "cell_type": "code",
   "execution_count": 7,
   "metadata": {
    "collapsed": true,
    "deletable": true,
    "editable": true
   },
   "outputs": [],
   "source": [
    "import numpy as np\n",
    "import tensorflow as tf\n",
    "\n",
    "data_x1 = np.array([[0., 1.], [1, 0], [1, 1], [0, -1], [-1, 0], [-1, -1], [-1,-1]])\n",
    "data_x2 = np.array([[1., 0.], [-1, 1], [0, -2], [2, 1], [1, -1], [2, 2], [1, 1]])"
   ]
  },
  {
   "cell_type": "markdown",
   "metadata": {},
   "source": [
    "![title](imgs/LSTM3-SimpleRNN.png)\n",
    "\n",
    "output = new_state = act(W * input + U * state + B)."
   ]
  },
  {
   "cell_type": "markdown",
   "metadata": {
    "deletable": true,
    "editable": true
   },
   "source": [
    "## Numpy version\n"
   ]
  },
  {
   "cell_type": "code",
   "execution_count": 8,
   "metadata": {
    "collapsed": false,
    "deletable": true,
    "editable": true
   },
   "outputs": [
    {
     "name": "stdout",
     "output_type": "stream",
     "text": [
      "[[ 0.76159416]\n",
      " [-0.96402758]\n",
      " [ 0.        ]\n",
      " [-0.99505475]\n",
      " [ 0.        ]\n",
      " [-0.96402758]\n",
      " [-0.96402758]]\n",
      "[[ 0.78039367]\n",
      " [-0.95231809]\n",
      " [-0.9999092 ]\n",
      " [-0.99990554]\n",
      " [-0.9993293 ]\n",
      " [-0.99341113]\n",
      " [-0.99910575]]\n"
     ]
    }
   ],
   "source": [
    "npW = np.array([[-1.], [2.]])\n",
    "npU = np.array([[4.]])\n",
    "npB = np.array([-1.])\n",
    "\n",
    "state_1 = np.tanh(np.matmul(data_x1, npW) + npB)\n",
    "print(state_1)\n",
    "\n",
    "state_2 = np.tanh(np.matmul(data_x2, npW) + np.matmul(state_1, npU) + npB)\n",
    "print(state_2)"
   ]
  },
  {
   "cell_type": "markdown",
   "metadata": {
    "deletable": true,
    "editable": true
   },
   "source": [
    "## The same with tensorflow"
   ]
  },
  {
   "cell_type": "code",
   "execution_count": 9,
   "metadata": {
    "collapsed": true,
    "deletable": true,
    "editable": true
   },
   "outputs": [],
   "source": [
    "input_1 = tf.placeholder(tf.float32, shape=[None, 2], name='input_1') \n",
    "input_2 = tf.placeholder(tf.float32, shape=[None, 2], name='input_2')\n",
    "    \n",
    "\n",
    "with tf.name_scope('rec1_layer'):\n",
    "    tfW = tf.constant([[-1.], [2.]], dtype=tf.float32)\n",
    "    tfU = tf.constant([[4.]], dtype=tf.float32)\n",
    "    tfB = tf.constant([-1.], dtype=tf.float32)\n",
    "    state_1 = tf.nn.tanh(tf.matmul(input_1, tfW) + tfB)\n",
    "    \n",
    "with tf.name_scope('rec2_layer'):\n",
    "    state_2 = tf.nn.tanh(tf.matmul(input_2, tfW) + tf.matmul(state_1, tfU) + tfB)"
   ]
  },
  {
   "cell_type": "code",
   "execution_count": 10,
   "metadata": {
    "collapsed": false,
    "deletable": true,
    "editable": true
   },
   "outputs": [
    {
     "name": "stdout",
     "output_type": "stream",
     "text": [
      "[[ 0.78039378]\n",
      " [-0.95231807]\n",
      " [-0.99990916]\n",
      " [-0.99990541]\n",
      " [-0.99932921]\n",
      " [-0.99341124]\n",
      " [-0.99910557]]\n"
     ]
    }
   ],
   "source": [
    "feed_dict = {input_1: data_x1, input_2: data_x2}\n",
    "with tf.Session() as sess:\n",
    "    writer = tf.summary.FileWriter('logs/03')\n",
    "    writer.add_graph(sess.graph)\n",
    "    print(sess.run(state_2, feed_dict))"
   ]
  },
  {
   "cell_type": "code",
   "execution_count": null,
   "metadata": {
    "collapsed": true
   },
   "outputs": [],
   "source": []
  }
 ],
 "metadata": {
  "kernelspec": {
   "display_name": "Python 3",
   "language": "python",
   "name": "python3"
  },
  "language_info": {
   "codemirror_mode": {
    "name": "ipython",
    "version": 3
   },
   "file_extension": ".py",
   "mimetype": "text/x-python",
   "name": "python",
   "nbconvert_exporter": "python",
   "pygments_lexer": "ipython3",
   "version": "3.6.1"
  }
 },
 "nbformat": 4,
 "nbformat_minor": 2
}
