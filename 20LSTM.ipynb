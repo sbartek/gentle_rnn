{
 "cells": [
  {
   "cell_type": "code",
   "execution_count": 1,
   "metadata": {},
   "outputs": [],
   "source": [
    "import numpy as np\n",
    "\n",
    "def sigmoid(x):\n",
    "    return 1/(1+np.exp(-x))"
   ]
  },
  {
   "cell_type": "markdown",
   "metadata": {},
   "source": [
    "http://colah.github.io/posts/2015-08-Understanding-LSTMs/"
   ]
  },
  {
   "cell_type": "markdown",
   "metadata": {},
   "source": [
    "![title](imgs/LSTM3-chain.png)\n",
    "\n",
    "![title](imgs/LSTM2-notation.png)"
   ]
  },
  {
   "cell_type": "code",
   "execution_count": 5,
   "metadata": {},
   "outputs": [],
   "source": [
    "data_x1 = np.array([[0., 1.], [1, 0], [1, 1], [0, -1], [-1, 0], [-1, -1], [-1,-1]])\n",
    "data_x2 = np.array([[1., 0.], [-1, 1], [0, -2], [2, 1], [1, -1], [2, 2], [1, 1]])\n",
    "\n",
    "data_dim =  data_x1.shape[1]\n",
    "n_inputs = data_x1.shape[0]\n",
    "n_nodes = 3\n",
    "n_steps = 2\n",
    "\n",
    "weights_dim = [data_dim + n_nodes, n_nodes]\n",
    "\n",
    "lt_memory = np.zeros([n_inputs, n_nodes])\n",
    "st_memory = np.zeros([n_inputs, n_nodes])"
   ]
  },
  {
   "cell_type": "code",
   "execution_count": 6,
   "metadata": {},
   "outputs": [
    {
     "data": {
      "text/plain": [
       "array([[ 0.,  1.,  0.,  0.,  0.],\n",
       "       [ 1.,  0.,  0.,  0.,  0.],\n",
       "       [ 1.,  1.,  0.,  0.,  0.],\n",
       "       [ 0., -1.,  0.,  0.,  0.],\n",
       "       [-1.,  0.,  0.,  0.,  0.],\n",
       "       [-1., -1.,  0.,  0.,  0.],\n",
       "       [-1., -1.,  0.,  0.,  0.]])"
      ]
     },
     "execution_count": 6,
     "metadata": {},
     "output_type": "execute_result"
    }
   ],
   "source": [
    "np.concatenate([data_x1, st_memory], axis=1)"
   ]
  },
  {
   "cell_type": "markdown",
   "metadata": {},
   "source": [
    "## Forget gate layer\n",
    "\n",
    "![title](imgs/LSTM3-focus-f.png)"
   ]
  },
  {
   "cell_type": "code",
   "execution_count": 12,
   "metadata": {},
   "outputs": [
    {
     "data": {
      "text/plain": [
       "array([[ 0.73197675,  0.47829704,  0.14818873],\n",
       "       [ 0.72108162,  0.42521307,  0.39621623],\n",
       "       [ 0.803063  ,  0.64600098,  0.19847554],\n",
       "       [ 0.52329382,  0.13093712,  0.54991046],\n",
       "       [ 0.53695366,  0.15733985,  0.24465725],\n",
       "       [ 0.42369298,  0.0703666 ,  0.46189409],\n",
       "       [ 0.42369298,  0.0703666 ,  0.46189409]])"
      ]
     },
     "execution_count": 12,
     "metadata": {},
     "output_type": "execute_result"
    }
   ],
   "source": [
    "np.random.seed(666)\n",
    "\n",
    "Wf = 2 * np.random.rand(*weights_dim) - 1\n",
    "bf = 2 * np.random.rand(n_nodes) - 1\n",
    "\n",
    "def gateLayer(x, h, W, b):\n",
    "    return sigmoid(np.matmul(np.concatenate([x, h], axis=1), W) + b)\n",
    "\n",
    "forget_gate1 = gateLayer(data_x1, st_memory, Wf, bf)\n",
    "forget_gate1"
   ]
  },
  {
   "cell_type": "markdown",
   "metadata": {},
   "source": [
    "## Input gate layer & tanh layer"
   ]
  },
  {
   "cell_type": "markdown",
   "metadata": {},
   "source": [
    "![title](imgs/LSTM3-focus-i.png)"
   ]
  },
  {
   "cell_type": "code",
   "execution_count": 16,
   "metadata": {},
   "outputs": [
    {
     "name": "stdout",
     "output_type": "stream",
     "text": [
      "[[ 0.37960833  0.36042807  0.46263574]\n",
      " [ 0.24426619  0.31878066  0.56593779]\n",
      " [ 0.20454467  0.1720362   0.54548179]\n",
      " [ 0.4915469   0.74082486  0.50399829]\n",
      " [ 0.64666322  0.77489047  0.40154326]\n",
      " [ 0.69701036  0.8857472   0.42160843]\n",
      " [ 0.69701036  0.8857472   0.42160843]]\n",
      "[[ 0.04600799  0.51793142  0.52101879]\n",
      " [-0.71725169  0.84304518 -0.05423635]\n",
      " [ 0.03103179  0.76607325  0.70943963]\n",
      " [-0.94883506  0.76791217 -0.86248108]\n",
      " [-0.7023707   0.34267455 -0.58558794]\n",
      " [-0.94731803  0.52119215 -0.92334738]\n",
      " [-0.94731803  0.52119215 -0.92334738]]\n"
     ]
    }
   ],
   "source": [
    "Wi = 2 * np.random.rand(*weights_dim) - 1\n",
    "bi = 2 * np.random.rand(n_nodes) - 1\n",
    "\n",
    "WC = 2 * np.random.rand(*weights_dim) - 1\n",
    "bC = 2 * np.random.rand(n_nodes) - 1\n",
    "\n",
    "def tanhLayer(x, h, WC, bC):\n",
    "    return np.tanh(np.matmul(np.concatenate([x, h], axis=1), WC) + bC)\n",
    "\n",
    "input_gate1 = gateLayer(data_x1, st_memory, Wi, bi)\n",
    "print(input_gate1)\n",
    "\n",
    "tanh_gate1 = tanhLayer(data_x1, st_memory, WC, bC)\n",
    "print(tanh_gate1)"
   ]
  },
  {
   "cell_type": "markdown",
   "metadata": {},
   "source": [
    "## Update Long time memory\n",
    "![title](imgs/LSTM3-focus-C.png)"
   ]
  },
  {
   "cell_type": "code",
   "execution_count": 17,
   "metadata": {},
   "outputs": [
    {
     "data": {
      "text/plain": [
       "array([[ 0.01746501,  0.18667702,  0.24104191],\n",
       "       [-0.17520034,  0.2687465 , -0.0306944 ],\n",
       "       [ 0.00634739,  0.13179233,  0.3869864 ],\n",
       "       [-0.46639693,  0.56888843, -0.43468899],\n",
       "       [-0.4541973 ,  0.26553524, -0.23513889],\n",
       "       [-0.66029049,  0.46164449, -0.38929103],\n",
       "       [-0.66029049,  0.46164449, -0.38929103]])"
      ]
     },
     "execution_count": 17,
     "metadata": {},
     "output_type": "execute_result"
    }
   ],
   "source": [
    "lt_memory1 = forget_gate1 * lt_memory + input_gate1 * tanh_gate1\n",
    "lt_memory1"
   ]
  },
  {
   "cell_type": "markdown",
   "metadata": {},
   "source": [
    "## Output gate and generate output\n",
    "\n",
    "![title](imgs/LSTM3-focus-o.png)"
   ]
  },
  {
   "cell_type": "code",
   "execution_count": 20,
   "metadata": {},
   "outputs": [
    {
     "name": "stdout",
     "output_type": "stream",
     "text": [
      "[[ 0.37960833  0.36042807  0.46263574]\n",
      " [ 0.24426619  0.31878066  0.56593779]\n",
      " [ 0.20454467  0.1720362   0.54548179]\n",
      " [ 0.4915469   0.74082486  0.50399829]\n",
      " [ 0.64666322  0.77489047  0.40154326]\n",
      " [ 0.69701036  0.8857472   0.42160843]\n",
      " [ 0.69701036  0.8857472   0.42160843]]\n",
      "[[ 0.0115965   0.10223105  0.15532237]\n",
      " [-0.05044544  0.08215761 -0.01627125]\n",
      " [ 0.00313256  0.06458154  0.22006581]\n",
      " [-0.11290898  0.11036491 -0.21560403]\n",
      " [-0.26709437  0.11071561 -0.15094074]\n",
      " [-0.24031168  0.11161061 -0.21879666]\n",
      " [-0.24031168  0.11161061 -0.21879666]]\n"
     ]
    }
   ],
   "source": [
    "Wo = 2 * np.random.rand(*weights_dim) - 1\n",
    "bo = 2 * np.random.rand(n_nodes) - 1\n",
    "\n",
    "output_gate1 = gateLayer(data_x1, st_memory, Wo, bo)\n",
    "print(input_gate1)\n",
    "\n",
    "output1 = output_gate1 * np.tanh(lt_memory1)\n",
    "print(output1)"
   ]
  }
 ],
 "metadata": {
  "kernelspec": {
   "display_name": "Python 3",
   "language": "python",
   "name": "python3"
  },
  "language_info": {
   "codemirror_mode": {
    "name": "ipython",
    "version": 3
   },
   "file_extension": ".py",
   "mimetype": "text/x-python",
   "name": "python",
   "nbconvert_exporter": "python",
   "pygments_lexer": "ipython3",
   "version": "3.6.1"
  }
 },
 "nbformat": 4,
 "nbformat_minor": 2
}
