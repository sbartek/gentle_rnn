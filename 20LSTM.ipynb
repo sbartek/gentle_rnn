{
 "cells": [
  {
   "cell_type": "code",
   "execution_count": 1,
   "metadata": {
    "collapsed": true
   },
   "outputs": [],
   "source": [
    "import numpy as np\n",
    "\n",
    "def sigmoid(x):\n",
    "    return 1/(1+np.exp(-x))"
   ]
  },
  {
   "cell_type": "markdown",
   "metadata": {},
   "source": [
    "* http://colah.github.io/posts/2015-08-Understanding-LSTMs/\n",
    "\n",
    "* http://arxiv.org/abs/1409.2329"
   ]
  },
  {
   "cell_type": "markdown",
   "metadata": {},
   "source": [
    "![title](imgs/LSTM3-chain.png)\n",
    "\n",
    "![title](imgs/LSTM2-notation.png)"
   ]
  },
  {
   "cell_type": "code",
   "execution_count": 2,
   "metadata": {},
   "outputs": [
    {
     "data": {
      "text/plain": [
       "array([[ 0.,  0.,  0.],\n",
       "       [ 0.,  0.,  0.],\n",
       "       [ 0.,  0.,  0.],\n",
       "       [ 0.,  0.,  0.],\n",
       "       [ 0.,  0.,  0.],\n",
       "       [ 0.,  0.,  0.],\n",
       "       [ 0.,  0.,  0.]])"
      ]
     },
     "execution_count": 2,
     "metadata": {},
     "output_type": "execute_result"
    }
   ],
   "source": [
    "data_x1 = np.array([[0., 1.], [1, 0], [1, 1], [0, -1], [-1, 0], [-1, -1], [-1,-1]])\n",
    "data_x2 = np.array([[1., 0.], [-1, 1], [0, -2], [2, 1], [1, -1], [2, 2], [1, 1]])\n",
    "\n",
    "\n",
    "data_dim =  data_x1.shape[1]\n",
    "n_inputs = data_x1.shape[0]\n",
    "n_nodes = 3\n",
    "n_steps = 2\n",
    "\n",
    "weights_dim = [data_dim + n_nodes, n_nodes]\n",
    "\n",
    "lt_memory0 = np.zeros([n_inputs, n_nodes])\n",
    "st_memory0 = np.zeros([n_inputs, n_nodes])\n",
    "\n",
    "lt_memory0"
   ]
  },
  {
   "cell_type": "markdown",
   "metadata": {},
   "source": [
    "## Forget gate layer\n",
    "\n",
    "![title](imgs/LSTM3-focus-f.png)"
   ]
  },
  {
   "cell_type": "code",
   "execution_count": 3,
   "metadata": {},
   "outputs": [
    {
     "data": {
      "text/plain": [
       "array([[ 0.73197675,  0.47829704,  0.14818873],\n",
       "       [ 0.72108162,  0.42521307,  0.39621623],\n",
       "       [ 0.803063  ,  0.64600098,  0.19847554],\n",
       "       [ 0.52329382,  0.13093712,  0.54991046],\n",
       "       [ 0.53695366,  0.15733985,  0.24465725],\n",
       "       [ 0.42369298,  0.0703666 ,  0.46189409],\n",
       "       [ 0.42369298,  0.0703666 ,  0.46189409]])"
      ]
     },
     "execution_count": 3,
     "metadata": {},
     "output_type": "execute_result"
    }
   ],
   "source": [
    "np.random.seed(666)\n",
    "\n",
    "# Wf = np.zeros(weights_dim) # forget half\n",
    "# Wf = np.ones(weights_dim) * 100 # do not forget anything\n",
    "# Wf = np.ones(weights_dim) * (-100) # do not forget anything\n",
    "Wf = 2 * np.random.rand(*weights_dim) - 1\n",
    "bf = 2*np.random.rand(n_nodes) - 1\n",
    "\n",
    "def gateLayer(x, h, W, b):\n",
    "    return sigmoid(np.matmul(np.concatenate([x, h], axis=1), W) + b)\n",
    "\n",
    "forget_gate1 = gateLayer(data_x1, st_memory0, Wf, bf)\n",
    "forget_gate1"
   ]
  },
  {
   "cell_type": "markdown",
   "metadata": {},
   "source": [
    "## Input gate layer & tanh layer"
   ]
  },
  {
   "cell_type": "markdown",
   "metadata": {},
   "source": [
    "![title](imgs/LSTM3-focus-i.png)"
   ]
  },
  {
   "cell_type": "code",
   "execution_count": 4,
   "metadata": {},
   "outputs": [
    {
     "name": "stdout",
     "output_type": "stream",
     "text": [
      "[[ 0.63398086  0.38071698  0.47031014]\n",
      " [ 0.33550248  0.33821934  0.38522399]\n",
      " [ 0.44305822  0.27068111  0.25494187]\n",
      " [ 0.41097131  0.53826357  0.74858656]\n",
      " [ 0.70532456  0.58372589  0.80839608]\n",
      " [ 0.60303837  0.65881495  0.88540241]\n",
      " [ 0.60303837  0.65881495  0.88540241]]\n",
      "[[-0.91020881 -0.84627754 -0.30849614]\n",
      " [-0.84210478 -0.84863104  0.25236998]\n",
      " [-0.94571281 -0.97001537  0.2274545 ]\n",
      " [-0.3853925   0.41343097 -0.25990321]\n",
      " [-0.60863589  0.42033073 -0.68730486]\n",
      " [-0.14455062  0.85897178 -0.67310054]\n",
      " [-0.14455062  0.85897178 -0.67310054]]\n"
     ]
    }
   ],
   "source": [
    "Wi = 2 * np.random.rand(*weights_dim) - 1\n",
    "bi = 2*np.random.rand(n_nodes)-1\n",
    "\n",
    "WC = 2 * np.random.rand(*weights_dim) - 1\n",
    "bC = np.zeros(n_nodes)\n",
    "bC = 2*np.random.rand(n_nodes)-1\n",
    "\n",
    "def tanhLayer(x, h, WC, bC):\n",
    "    return np.tanh(np.matmul(np.concatenate([x, h], axis=1), WC) + bC)\n",
    "\n",
    "input_gate1 = gateLayer(data_x1, st_memory0, Wi, bi)\n",
    "print(input_gate1)\n",
    "\n",
    "tanh_gate1 = tanhLayer(data_x1, st_memory0, WC, bC)\n",
    "print(tanh_gate1)"
   ]
  },
  {
   "cell_type": "markdown",
   "metadata": {},
   "source": [
    "## Update Long time memory\n",
    "![title](imgs/LSTM3-focus-C.png)"
   ]
  },
  {
   "cell_type": "code",
   "execution_count": 5,
   "metadata": {},
   "outputs": [
    {
     "data": {
      "text/plain": [
       "array([[-0.57705497, -0.32219223, -0.14508886],\n",
       "       [-0.28252824, -0.28702343,  0.09721897],\n",
       "       [-0.41900584, -0.26256484,  0.05798767],\n",
       "       [-0.15838526,  0.22253483, -0.19456005],\n",
       "       [-0.42928584,  0.24535793, -0.55561455],\n",
       "       [-0.08716957,  0.56590345, -0.59596484],\n",
       "       [-0.08716957,  0.56590345, -0.59596484]])"
      ]
     },
     "execution_count": 5,
     "metadata": {},
     "output_type": "execute_result"
    }
   ],
   "source": [
    "lt_memory1 = forget_gate1 * lt_memory0 + input_gate1 * tanh_gate1\n",
    "lt_memory1"
   ]
  },
  {
   "cell_type": "markdown",
   "metadata": {},
   "source": [
    "## Output gate and generate output\n",
    "\n",
    "![title](imgs/LSTM3-focus-o.png)"
   ]
  },
  {
   "cell_type": "code",
   "execution_count": 6,
   "metadata": {},
   "outputs": [
    {
     "name": "stdout",
     "output_type": "stream",
     "text": [
      "[[ 0.35988304  0.63548882  0.48129936]\n",
      " [ 0.59170634  0.64016035  0.63165424]\n",
      " [ 0.55258817  0.75549002  0.61489521]\n",
      " [ 0.43632481  0.36626744  0.51697597]\n",
      " [ 0.2309443   0.36158622  0.36674008]\n",
      " [ 0.26055295  0.2459118   0.38347041]\n",
      " [ 0.26055295  0.2459118   0.38347041]]\n",
      "[[-0.18732691 -0.19794702 -0.06934527]\n",
      " [-0.16286327 -0.17885625  0.06121604]\n",
      " [-0.21887607 -0.19392896  0.03561643]\n",
      " [-0.06853529  0.08018793 -0.09933266]\n",
      " [-0.09346877  0.08697961 -0.18509972]\n",
      " [-0.02265494  0.12599153 -0.20483916]\n",
      " [-0.02265494  0.12599153 -0.20483916]]\n"
     ]
    }
   ],
   "source": [
    "Wo = 2 * np.random.rand(*weights_dim) - 1\n",
    "bo = 2*np.random.rand(n_nodes)-1\n",
    "\n",
    "output_gate1 = gateLayer(data_x1, st_memory0, Wo, bo)\n",
    "print(output_gate1)\n",
    "\n",
    "output1 = output_gate1 * np.tanh(lt_memory1)\n",
    "print(output1)\n",
    "\n",
    "st_memory1 = output1"
   ]
  },
  {
   "cell_type": "code",
   "execution_count": 7,
   "metadata": {},
   "outputs": [
    {
     "name": "stdout",
     "output_type": "stream",
     "text": [
      "[[ 0.73528559  0.48961272  0.41596747]\n",
      " [ 0.64370059  0.3783727   0.11063752]\n",
      " [ 0.41346708  0.07816546  0.77566993]\n",
      " [ 0.86767698  0.7796711   0.28746087]\n",
      " [ 0.65143778  0.22331033  0.67855644]\n",
      " [ 0.91636119  0.88649464  0.13551464]\n",
      " [ 0.82307373  0.61399485  0.22592079]]\n"
     ]
    }
   ],
   "source": [
    "forget_gate2 = gateLayer(data_x2, st_memory1, Wf, bf)\n",
    "print(forget_gate2)"
   ]
  },
  {
   "cell_type": "code",
   "execution_count": 8,
   "metadata": {},
   "outputs": [
    {
     "name": "stdout",
     "output_type": "stream",
     "text": [
      "[[ 0.31103588  0.28881093  0.38818704]\n",
      " [ 0.79049644  0.46203379  0.71612819]\n",
      " [ 0.29471608  0.55980818  0.85471167]\n",
      " [ 0.23526283  0.17177901  0.10700031]\n",
      " [ 0.19775158  0.38391936  0.49576487]\n",
      " [ 0.31200378  0.13376138  0.05694747]\n",
      " [ 0.38525131  0.26047344  0.22296482]]\n",
      "[[-0.78432438 -0.88253184  0.22512306]\n",
      " [-0.77387942 -0.48696492 -0.72859097]\n",
      " [ 0.39736558  0.80327057 -0.26187089]\n",
      " [-0.97100529 -0.99465661  0.72107866]\n",
      " [-0.64844727 -0.40564165  0.42313858]\n",
      " [-0.99259941 -0.9988933   0.72326985]\n",
      " [-0.96227947 -0.96793572  0.37180929]]\n"
     ]
    }
   ],
   "source": [
    "input_gate2 = gateLayer(data_x2, st_memory1, Wi, bi)\n",
    "print(input_gate2)\n",
    "\n",
    "tanh_gate2 = tanhLayer(data_x2, st_memory1, WC, bC)\n",
    "print(tanh_gate2)"
   ]
  },
  {
   "cell_type": "code",
   "execution_count": 9,
   "metadata": {},
   "outputs": [
    {
     "name": "stdout",
     "output_type": "stream",
     "text": [
      "[[-0.66825323 -0.41263426  0.02703761]\n",
      " [-0.79361252 -0.33359608 -0.51100847]\n",
      " [-0.05613509  0.42915393 -0.17884481]\n",
      " [-0.3658687   0.00264284  0.02122724]\n",
      " [-0.40788449 -0.10094272 -0.16723859]\n",
      " [-0.38957358  0.36805703 -0.03957357]\n",
      " [-0.44246641  0.09534026 -0.05174046]]\n"
     ]
    }
   ],
   "source": [
    "lt_memory2 = forget_gate2 * lt_memory1 + input_gate2 * tanh_gate2\n",
    "print(lt_memory2)"
   ]
  },
  {
   "cell_type": "code",
   "execution_count": 10,
   "metadata": {},
   "outputs": [
    {
     "name": "stdout",
     "output_type": "stream",
     "text": [
      "[[ 0.31103588  0.28881093  0.38818704]\n",
      " [ 0.79049644  0.46203379  0.71612819]\n",
      " [ 0.29471608  0.55980818  0.85471167]\n",
      " [ 0.23526283  0.17177901  0.10700031]\n",
      " [ 0.19775158  0.38391936  0.49576487]\n",
      " [ 0.31200378  0.13376138  0.05694747]\n",
      " [ 0.38525131  0.26047344  0.22296482]]\n",
      "[[-0.36193563 -0.24914643  0.01671874]\n",
      " [-0.1327664  -0.15388951 -0.16010515]\n",
      " [-0.02722515  0.09417158 -0.09162839]\n",
      " [-0.26709286  0.00222109  0.01537898]\n",
      " [-0.26673895 -0.05050129 -0.10521365]\n",
      " [-0.27792859  0.31966786 -0.02818019]\n",
      " [-0.25550788  0.07233085 -0.03139437]]\n"
     ]
    }
   ],
   "source": [
    "output_gate2 = gateLayer(data_x2, st_memory1, Wo, bo)\n",
    "print(input_gate2)\n",
    "\n",
    "output2 = output_gate2 * np.tanh(lt_memory2)\n",
    "print(output2)\n",
    "\n",
    "st_memory2 = output2"
   ]
  },
  {
   "cell_type": "code",
   "execution_count": 11,
   "metadata": {
    "collapsed": true
   },
   "outputs": [],
   "source": [
    "numpy_output = [output1, output2]"
   ]
  },
  {
   "cell_type": "markdown",
   "metadata": {},
   "source": [
    "# TF version\n",
    "\n",
    "See 25TensorflowExperimentsWithLSTMOneStep first"
   ]
  },
  {
   "cell_type": "code",
   "execution_count": 12,
   "metadata": {
    "collapsed": true
   },
   "outputs": [],
   "source": [
    "import tensorflow as tf\n",
    "lstm_weights = np.concatenate([Wi, WC, Wf, Wo], axis=1)\n",
    "lstm_biases = np.concatenate([bi, bC, bf, bo])"
   ]
  },
  {
   "cell_type": "code",
   "execution_count": 13,
   "metadata": {},
   "outputs": [],
   "source": [
    "inputs = tf.placeholder(tf.float32, [n_steps, n_inputs, data_dim])\n",
    "inputs_seq = tf.unstack(inputs)\n",
    "initial_ltm = tf.placeholder(tf.float32, [n_inputs, n_nodes])\n",
    "initial_stm = tf.placeholder(tf.float32, [n_inputs, n_nodes])\n",
    "\n",
    "with tf.name_scope('rec_layer'):\n",
    "\n",
    "    lstm_rnn_cell = tf.contrib.rnn.core_rnn_cell.BasicLSTMCell(\n",
    "        num_units=n_nodes, forget_bias=0,)\n",
    "\n",
    "    lstm_rnn_output, state = tf.contrib.rnn.static_rnn(\n",
    "        cell=lstm_rnn_cell, \n",
    "        initial_state=[initial_ltm, initial_stm], \n",
    "        inputs=inputs_seq, \n",
    "        dtype=tf.float32)"
   ]
  },
  {
   "cell_type": "code",
   "execution_count": 14,
   "metadata": {},
   "outputs": [
    {
     "name": "stdout",
     "output_type": "stream",
     "text": [
      "LSTMStateTuple(c=array([[-0.66825318, -0.41263425,  0.02703761],\n",
      "       [-0.79361254, -0.33359611, -0.5110085 ],\n",
      "       [-0.05613507,  0.42915395, -0.17884482],\n",
      "       [-0.36586872,  0.00264281,  0.02122722],\n",
      "       [-0.40788448, -0.10094272, -0.16723856],\n",
      "       [-0.38957357,  0.36805701, -0.03957358],\n",
      "       [-0.44246644,  0.09534025, -0.05174047]], dtype=float32), h=array([[-0.36193559, -0.2491464 ,  0.01671874],\n",
      "       [-0.13276641, -0.15388954, -0.16010515],\n",
      "       [-0.02722514,  0.09417158, -0.0916284 ],\n",
      "       [-0.26709288,  0.00222106,  0.01537897],\n",
      "       [-0.26673889, -0.05050128, -0.10521362],\n",
      "       [-0.27792859,  0.31966782, -0.02818018],\n",
      "       [-0.25550792,  0.07233085, -0.03139438]], dtype=float32))\n"
     ]
    }
   ],
   "source": [
    "lstm_weights_var = [v for v in tf.trainable_variables() if v.name == 'rnn/basic_lstm_cell/weights:0'][0]\n",
    "assign_lstm_weights = tf.assign(lstm_weights_var, lstm_weights)\n",
    "\n",
    "lstm_biases_var = [v for v in tf.trainable_variables() if v.name == 'rnn/basic_lstm_cell/biases:0'][0]\n",
    "assign_lstm_biases = tf.assign(lstm_biases_var, lstm_biases)\n",
    "\n",
    "feed_dict = {inputs: np.array([data_x1, data_x2]), initial_ltm:lt_memory0, initial_stm: st_memory0}\n",
    "\n",
    "init = tf.global_variables_initializer()\n",
    "with tf.Session() as sess:\n",
    "    sess.run(init) \n",
    "    sess.run(assign_lstm_weights)\n",
    "    sess.run(assign_lstm_biases)\n",
    "    \n",
    "    variables_names = [v.name for v in tf.trainable_variables()]\n",
    "    values = sess.run(variables_names)\n",
    "    lstm_out, st = sess.run([lstm_rnn_output, state], feed_dict)\n",
    "    print(st)  "
   ]
  },
  {
   "cell_type": "code",
   "execution_count": 15,
   "metadata": {},
   "outputs": [
    {
     "name": "stdout",
     "output_type": "stream",
     "text": [
      "np:\n",
      "[array([[-0.18732691, -0.19794702, -0.06934527],\n",
      "       [-0.16286327, -0.17885625,  0.06121604],\n",
      "       [-0.21887607, -0.19392896,  0.03561643],\n",
      "       [-0.06853529,  0.08018793, -0.09933266],\n",
      "       [-0.09346877,  0.08697961, -0.18509972],\n",
      "       [-0.02265494,  0.12599153, -0.20483916],\n",
      "       [-0.02265494,  0.12599153, -0.20483916]]), array([[-0.36193563, -0.24914643,  0.01671874],\n",
      "       [-0.1327664 , -0.15388951, -0.16010515],\n",
      "       [-0.02722515,  0.09417158, -0.09162839],\n",
      "       [-0.26709286,  0.00222109,  0.01537898],\n",
      "       [-0.26673895, -0.05050129, -0.10521365],\n",
      "       [-0.27792859,  0.31966786, -0.02818019],\n",
      "       [-0.25550788,  0.07233085, -0.03139437]])]\n",
      "tf:\n",
      "[array([[-0.18732689, -0.19794703, -0.06934525],\n",
      "       [-0.16286328, -0.17885621,  0.06121602],\n",
      "       [-0.21887606, -0.19392894,  0.03561642],\n",
      "       [-0.06853528,  0.08018792, -0.09933265],\n",
      "       [-0.09346876,  0.0869796 , -0.18509974],\n",
      "       [-0.02265495,  0.12599154, -0.20483917],\n",
      "       [-0.02265495,  0.12599154, -0.20483917]], dtype=float32), array([[-0.36193559, -0.2491464 ,  0.01671874],\n",
      "       [-0.13276641, -0.15388954, -0.16010515],\n",
      "       [-0.02722514,  0.09417158, -0.0916284 ],\n",
      "       [-0.26709288,  0.00222106,  0.01537897],\n",
      "       [-0.26673889, -0.05050128, -0.10521362],\n",
      "       [-0.27792859,  0.31966782, -0.02818018],\n",
      "       [-0.25550792,  0.07233085, -0.03139438]], dtype=float32)]\n"
     ]
    }
   ],
   "source": [
    "print('np:')\n",
    "print(numpy_output)\n",
    "print('tf:')\n",
    "print(lstm_out)"
   ]
  }
 ],
 "metadata": {
  "kernelspec": {
   "display_name": "Python 3",
   "language": "python",
   "name": "python3"
  },
  "language_info": {
   "codemirror_mode": {
    "name": "ipython",
    "version": 3
   },
   "file_extension": ".py",
   "mimetype": "text/x-python",
   "name": "python",
   "nbconvert_exporter": "python",
   "pygments_lexer": "ipython3",
   "version": "3.6.1"
  }
 },
 "nbformat": 4,
 "nbformat_minor": 2
}
