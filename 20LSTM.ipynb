{
 "cells": [
  {
   "cell_type": "code",
   "execution_count": 6,
   "metadata": {
    "collapsed": true
   },
   "outputs": [],
   "source": [
    "import numpy as np\n",
    "\n",
    "def sigmoid(x):\n",
    "    return 1/(1+np.exp(-x))"
   ]
  },
  {
   "cell_type": "markdown",
   "metadata": {},
   "source": [
    "http://colah.github.io/posts/2015-08-Understanding-LSTMs/"
   ]
  },
  {
   "cell_type": "markdown",
   "metadata": {},
   "source": [
    "![title](imgs/LSTM3-chain.png)\n",
    "\n",
    "![title](imgs/LSTM2-notation.png)"
   ]
  },
  {
   "cell_type": "code",
   "execution_count": 5,
   "metadata": {},
   "outputs": [],
   "source": [
    "data_x1 = np.array([[0., 1.], [1, 0], [1, 1], [0, -1], [-1, 0], [-1, -1], [-1,-1]])\n",
    "data_x2 = np.array([[1., 0.], [-1, 1], [0, -2], [2, 1], [1, -1], [2, 2], [1, 1]])\n",
    "\n",
    "\n",
    "n_inputs = data_x1.shape[0]\n",
    "n_nodes = 3\n",
    "hidden_dim = 4\n",
    "n_steps = 2\n",
    "\n",
    "lt_memory = np.zeros([n_inputs, n_nodes])\n",
    "st_memory = np.zeros([n_inputs, n_nodes])"
   ]
  },
  {
   "cell_type": "code",
   "execution_count": 8,
   "metadata": {},
   "outputs": [
    {
     "data": {
      "text/plain": [
       "array([[ 0.,  1.,  0.,  0.,  0.],\n",
       "       [ 1.,  0.,  0.,  0.,  0.],\n",
       "       [ 1.,  1.,  0.,  0.,  0.],\n",
       "       [ 0., -1.,  0.,  0.,  0.],\n",
       "       [-1.,  0.,  0.,  0.,  0.],\n",
       "       [-1., -1.,  0.,  0.,  0.],\n",
       "       [-1., -1.,  0.,  0.,  0.]])"
      ]
     },
     "execution_count": 8,
     "metadata": {},
     "output_type": "execute_result"
    }
   ],
   "source": [
    "np.concatenate([data_x1, st_memory], axis=1)"
   ]
  },
  {
   "cell_type": "markdown",
   "metadata": {},
   "source": [
    "## Forget gate layer\n",
    "\n",
    "![title](imgs/LSTM3-focus-f.png)"
   ]
  },
  {
   "cell_type": "code",
   "execution_count": 14,
   "metadata": {},
   "outputs": [
    {
     "data": {
      "text/plain": [
       "array([[ 0.73105858,  0.95257413,  0.26894142,  0.26894142],\n",
       "       [ 0.88079708,  0.88079708,  0.5       ,  0.11920292],\n",
       "       [ 0.88079708,  0.95257413,  0.5       ,  0.26894142],\n",
       "       [ 0.73105858,  0.73105858,  0.26894142,  0.04742587],\n",
       "       [ 0.5       ,  0.88079708,  0.11920292,  0.11920292],\n",
       "       [ 0.5       ,  0.73105858,  0.11920292,  0.04742587],\n",
       "       [ 0.5       ,  0.73105858,  0.11920292,  0.04742587]])"
      ]
     },
     "execution_count": 14,
     "metadata": {},
     "output_type": "execute_result"
    }
   ],
   "source": [
    "Wf = np.array([[1, 0, 1, 0], [0, 1, 0, 1], [-1, 1, 1, -1], [0.5, 0, -0.5, -0.5], [-0.5, 1, 1, 0.5]])\n",
    "bf = np.array([[1, 2, -1, -2]])\n",
    "\n",
    "def forgetGateLayer(x, h, Wf, bf):\n",
    "    return sigmoid(np.matmul(np.concatenate([x, h], axis=1), Wf) + bf)\n",
    "\n",
    "forget_gate1 = forgetGateLayer(data_x1, st_memory, Wf, bf)\n",
    "forget_gate1"
   ]
  },
  {
   "cell_type": "markdown",
   "metadata": {},
   "source": [
    "## Input gate layer & tanh layer"
   ]
  },
  {
   "cell_type": "markdown",
   "metadata": {},
   "source": [
    "![title](imgs/LSTM3-focus-i.png)"
   ]
  },
  {
   "cell_type": "code",
   "execution_count": null,
   "metadata": {
    "collapsed": true
   },
   "outputs": [],
   "source": []
  },
  {
   "cell_type": "markdown",
   "metadata": {},
   "source": [
    "![title](imgs/LSTM3-chain.png)"
   ]
  },
  {
   "cell_type": "code",
   "execution_count": null,
   "metadata": {
    "collapsed": true
   },
   "outputs": [],
   "source": []
  },
  {
   "cell_type": "markdown",
   "metadata": {},
   "source": [
    "![title](imgs/LSTM3-chain.png)"
   ]
  },
  {
   "cell_type": "code",
   "execution_count": null,
   "metadata": {
    "collapsed": true
   },
   "outputs": [],
   "source": []
  },
  {
   "cell_type": "markdown",
   "metadata": {},
   "source": [
    "![title](imgs/LSTM3-chain.png)"
   ]
  }
 ],
 "metadata": {
  "kernelspec": {
   "display_name": "Python 3",
   "language": "python",
   "name": "python3"
  },
  "language_info": {
   "codemirror_mode": {
    "name": "ipython",
    "version": 3
   },
   "file_extension": ".py",
   "mimetype": "text/x-python",
   "name": "python",
   "nbconvert_exporter": "python",
   "pygments_lexer": "ipython3",
   "version": "3.6.1"
  }
 },
 "nbformat": 4,
 "nbformat_minor": 2
}
