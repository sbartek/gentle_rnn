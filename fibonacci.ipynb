{
 "cells": [
  {
   "cell_type": "markdown",
   "metadata": {},
   "source": [
    "https://www.youtube.com/watch?v=eBbEDRsCmv4&feature=youtu.be\n",
    "https://www.tensorflow.org/get_started/summaries_and_tensorboard"
   ]
  },
  {
   "cell_type": "code",
   "execution_count": 65,
   "metadata": {
    "collapsed": true
   },
   "outputs": [],
   "source": [
    "import pandas as pd"
   ]
  },
  {
   "cell_type": "code",
   "execution_count": 35,
   "metadata": {
    "collapsed": true
   },
   "outputs": [],
   "source": [
    "def fibonacci_up_to(n):\n",
    "    if n == 0:\n",
    "        return [0]\n",
    "    \n",
    "    fibonaccis = [0, 1]\n",
    "    k2 = 0\n",
    "    k1 = 1\n",
    "    for i in range(1, n):\n",
    "        k0 = k1 + k2\n",
    "        fibonaccis.append(k0)\n",
    "        k2 = k1\n",
    "        k1 = k0\n",
    "    return fibonaccis"
   ]
  },
  {
   "cell_type": "code",
   "execution_count": 36,
   "metadata": {},
   "outputs": [
    {
     "data": {
      "text/plain": [
       "([0, 1, 1], [0, 1, 1, 2], [0, 1, 1, 2, 3, 5, 8, 13, 21, 34, 55])"
      ]
     },
     "execution_count": 36,
     "metadata": {},
     "output_type": "execute_result"
    }
   ],
   "source": [
    "fibonacci_up_to(2), fibonacci_up_to(3), fibonacci_up_to(10)"
   ]
  },
  {
   "cell_type": "code",
   "execution_count": 13,
   "metadata": {
    "collapsed": true
   },
   "outputs": [],
   "source": [
    "f1000 = fibonacci_up_to(500)"
   ]
  },
  {
   "cell_type": "code",
   "execution_count": 14,
   "metadata": {},
   "outputs": [
    {
     "data": {
      "text/plain": [
       "86168291600238450732788312165664788095941068326060883324529903470149056115823592713458328176574447204501"
      ]
     },
     "execution_count": 14,
     "metadata": {},
     "output_type": "execute_result"
    }
   ],
   "source": [
    "f1000[-1]"
   ]
  },
  {
   "cell_type": "code",
   "execution_count": 144,
   "metadata": {},
   "outputs": [
    {
     "data": {
      "text/html": [
       "<div>\n",
       "<style>\n",
       "    .dataframe thead tr:only-child th {\n",
       "        text-align: right;\n",
       "    }\n",
       "\n",
       "    .dataframe thead th {\n",
       "        text-align: left;\n",
       "    }\n",
       "\n",
       "    .dataframe tbody tr th {\n",
       "        vertical-align: top;\n",
       "    }\n",
       "</style>\n",
       "<table border=\"1\" class=\"dataframe\">\n",
       "  <thead>\n",
       "    <tr style=\"text-align: right;\">\n",
       "      <th></th>\n",
       "      <th>x1</th>\n",
       "      <th>x2</th>\n",
       "      <th>y</th>\n",
       "    </tr>\n",
       "  </thead>\n",
       "  <tbody>\n",
       "    <tr>\n",
       "      <th>0</th>\n",
       "      <td>34</td>\n",
       "      <td>55</td>\n",
       "      <td>89</td>\n",
       "    </tr>\n",
       "    <tr>\n",
       "      <th>1</th>\n",
       "      <td>3</td>\n",
       "      <td>5</td>\n",
       "      <td>8</td>\n",
       "    </tr>\n",
       "    <tr>\n",
       "      <th>2</th>\n",
       "      <td>13</td>\n",
       "      <td>21</td>\n",
       "      <td>34</td>\n",
       "    </tr>\n",
       "    <tr>\n",
       "      <th>3</th>\n",
       "      <td>8</td>\n",
       "      <td>13</td>\n",
       "      <td>21</td>\n",
       "    </tr>\n",
       "    <tr>\n",
       "      <th>4</th>\n",
       "      <td>2</td>\n",
       "      <td>3</td>\n",
       "      <td>5</td>\n",
       "    </tr>\n",
       "  </tbody>\n",
       "</table>\n",
       "</div>"
      ],
      "text/plain": [
       "   x1  x2   y\n",
       "0  34  55  89\n",
       "1   3   5   8\n",
       "2  13  21  34\n",
       "3   8  13  21\n",
       "4   2   3   5"
      ]
     },
     "execution_count": 144,
     "metadata": {},
     "output_type": "execute_result"
    }
   ],
   "source": [
    "x = []\n",
    "y = []\n",
    "N = 8\n",
    "fib = fibonacci_up_to(2 + N + 1)\n",
    "for i in range(2, 2 + N):\n",
    "    x.append([fib[i], fib[i+1]])\n",
    "    y.append(fib[i+2])\n",
    "    \n",
    "fib_data = pd.DataFrame(x)\n",
    "fib_data.columns = ['x1', 'x2']\n",
    "fib_data['y'] = y\n",
    "fib_data = fib_data.sample(frac=1).reset_index(drop=True)\n",
    "fib_data.head()"
   ]
  },
  {
   "cell_type": "markdown",
   "metadata": {},
   "source": [
    "## First let's create simple NN with two dimensional input that gives next element"
   ]
  },
  {
   "cell_type": "code",
   "execution_count": 145,
   "metadata": {},
   "outputs": [],
   "source": [
    "import numpy as np\n",
    "import tensorflow as tf\n",
    "\n",
    "input_numbers = tf.placeholder(tf.float32, shape=[None, 2])\n",
    "\n",
    "weight = tf.Variable(np.array([[1], [1]]), dtype=tf.float32, name=\"weight\")\n",
    "bias = tf.Variable([0], dtype=tf.float32)\n",
    "\n",
    "output = tf.matmul(input_numbers, weight) + bias \n",
    "init = tf.global_variables_initializer()"
   ]
  },
  {
   "cell_type": "code",
   "execution_count": 146,
   "metadata": {},
   "outputs": [],
   "source": [
    "feed_dict = {input_numbers: fib_data[['x1', 'x2']]}"
   ]
  },
  {
   "cell_type": "code",
   "execution_count": 147,
   "metadata": {},
   "outputs": [
    {
     "name": "stdout",
     "output_type": "stream",
     "text": [
      "[3, 5, 8, 13, 21, 34, 55, 89]\n"
     ]
    }
   ],
   "source": [
    "with tf.Session() as sess:\n",
    "    sess.run(init) \n",
    "    a = sess.run([output], feed_dict)\n",
    "    a = np.sort(a, axis=1)\n",
    "    print([int(k) for k in a[0][:,0]])"
   ]
  },
  {
   "cell_type": "markdown",
   "metadata": {},
   "source": [
    "## Let's train it :)"
   ]
  },
  {
   "cell_type": "code",
   "execution_count": 148,
   "metadata": {},
   "outputs": [],
   "source": [
    "## Network configuration\n",
    "\n",
    "input_numbers = tf.placeholder(tf.float32, shape=[None, 2], name=\"input\")\n",
    "output_numbers = tf.placeholder(tf.float32, shape=[None, 1], name=\"output\")\n",
    "\n",
    "weight = tf.Variable(tf.truncated_normal([2, 1]), dtype=tf.float32, name=\"weight\")\n",
    "bias = tf.Variable(tf.zeros([1]), dtype=tf.float32, name=\"bias\")\n",
    "\n",
    "prediction = tf.matmul(input_numbers, weight) + bias \n",
    "loss = tf.reduce_mean(tf.square(prediction - output_numbers))\n"
   ]
  },
  {
   "cell_type": "code",
   "execution_count": 165,
   "metadata": {},
   "outputs": [],
   "source": [
    "## initilization \n",
    "epochs = 1000\n",
    "learning_rate = 0.001\n",
    "\n",
    "optimizer = tf.train.GradientDescentOptimizer(learning_rate)\n",
    "train = optimizer.minimize(loss)\n",
    "\n",
    "feed_dict = {input_numbers: fib_data[['x1', 'x2']], output_numbers: fib_data[['y']]}"
   ]
  },
  {
   "cell_type": "code",
   "execution_count": 170,
   "metadata": {},
   "outputs": [
    {
     "name": "stdout",
     "output_type": "stream",
     "text": [
      "loss 48.2583\n",
      "loss 0.00725453\n",
      "loss 0.00719081\n",
      "loss 0.00713469\n",
      "loss 0.00708488\n",
      "loss 0.00704022\n",
      "loss 0.00699979\n",
      "loss 0.00696281\n",
      "loss 0.00692879\n",
      "loss 0.00689713\n",
      "[array([[ 1.80179679],\n",
      "       [ 0.50387168]], dtype=float32), array([ 0.0205179], dtype=float32)]\n",
      "[[  2.8300581 ]\n",
      " [  5.13572645]\n",
      " [  7.94526625]\n",
      " [ 13.06047535]\n",
      " [ 20.98522377]\n",
      " [ 34.02518463]\n",
      " [ 54.98989105]\n",
      " [ 88.99454498]]\n"
     ]
    }
   ],
   "source": [
    "init = tf.global_variables_initializer()\n",
    "with tf.Session() as sess:\n",
    "    sess.run(init)\n",
    "    \n",
    "    #visualization\n",
    "    writer = tf.summary.FileWriter(\"logs/1\", sess.graph)\n",
    "    \n",
    "    for epoch in range(epochs):\n",
    "        if epoch % 100 == 0:\n",
    "            print('loss', sess.run(loss, feed_dict))\n",
    "        sess.run(train, feed_dict)\n",
    "    print(sess.run([weight, bias], feed_dict))\n",
    "    a = sess.run(prediction, feed_dict)\n",
    "    print(np.sort(a, axis=0))"
   ]
  },
  {
   "cell_type": "code",
   "execution_count": null,
   "metadata": {
    "collapsed": true
   },
   "outputs": [],
   "source": []
  }
 ],
 "metadata": {
  "kernelspec": {
   "display_name": "Python 3",
   "language": "python",
   "name": "python3"
  },
  "language_info": {
   "codemirror_mode": {
    "name": "ipython",
    "version": 3
   },
   "file_extension": ".py",
   "mimetype": "text/x-python",
   "name": "python",
   "nbconvert_exporter": "python",
   "pygments_lexer": "ipython3",
   "version": "3.6.1"
  }
 },
 "nbformat": 4,
 "nbformat_minor": 2
}
